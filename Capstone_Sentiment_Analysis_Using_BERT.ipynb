{
  "cells": [
    {
      "cell_type": "markdown",
      "metadata": {
        "id": "aEUs4Gan6Nk_"
      },
      "source": []
    },
    {
      "cell_type": "markdown",
      "metadata": {
        "id": "yH3Cgny06hIl"
      },
      "source": [
        "You are the lead Data Scientist for Pharmaceutical company Kipla, they have collected comments for various products scraping from various online sources and wish to create a sentiment analysis engine that can track the sentiment regarding a specified drug from 3 categories namely positive negative and neutral. Every sample will contain the text mentioning a drug name and the comment pertaining to it. Multiple products could be there within a single comment\n",
        "\n",
        "\n",
        "\n",
        "Example\n",
        "\n",
        "I looked up stomach pain after taking Correctol...and here I am, wishing I had read these comments before I took it. I'm sitting here with the worst stomach pain I've had since labor. I feel like I need to vomit but have dry mouth. My intestines feel like someone is twisting them.ive honestly been sitting on the toilet for an hour and no bm...just severe abdominal pain and I vomited once. I will NEVER take this medication again! Post that I took Meftal Spas and it worked wonders for me.\n",
        "\n",
        "\n",
        "\n",
        "Now this comment is positive for Meftal Spas medicine but negative for Correctol.\n",
        "\n",
        "Evaluation Metric\n",
        "The metric used for evaluating the performance of the classification model would be macro F1-Score.  \n",
        "\n"
      ]
    },
    {
      "cell_type": "code",
      "execution_count": null,
      "metadata": {
        "colab": {
          "base_uri": "https://localhost:8080/"
        },
        "id": "gz8ER0I76m_Z",
        "outputId": "51cf14e3-9c2b-43e1-f37b-7cb07d520eb3"
      },
      "outputs": [
        {
          "output_type": "execute_result",
          "data": {
            "text/plain": [
              "device(type='cuda')"
            ]
          },
          "metadata": {},
          "execution_count": 12
        }
      ],
      "source": [
        "#import torch library\n",
        "import torch\n",
        "\n",
        "# check GPU availability\n",
        "if torch.cuda.is_available():\n",
        "    # select GPU\n",
        "    device = torch.device(\"cuda\")\n",
        "else: # If no GPU is available, use CPU\n",
        "    device = torch.device(\"cpu\")\n",
        "\n",
        "device"
      ]
    },
    {
      "cell_type": "code",
      "execution_count": null,
      "metadata": {
        "colab": {
          "base_uri": "https://localhost:8080/",
          "height": 36
        },
        "id": "3izxOAzC7Dim",
        "outputId": "65cc00b0-ce8c-45d2-aeb1-b943e858cf89"
      },
      "outputs": [
        {
          "output_type": "execute_result",
          "data": {
            "text/plain": [
              "'Tesla T4'"
            ],
            "application/vnd.google.colaboratory.intrinsic+json": {
              "type": "string"
            }
          },
          "metadata": {},
          "execution_count": 13
        }
      ],
      "source": [
        "# check GPU name\n",
        "torch.cuda.get_device_name(0)"
      ]
    },
    {
      "cell_type": "code",
      "execution_count": null,
      "metadata": {
        "id": "lVgT3eZy7Iqr"
      },
      "outputs": [],
      "source": [
        "from transformers import BertModel\n",
        "\n",
        "# Load BERT-base-uncased\n",
        "bert = BertModel.from_pretrained('bert-base-uncased')\n"
      ]
    },
    {
      "cell_type": "code",
      "execution_count": null,
      "metadata": {
        "colab": {
          "base_uri": "https://localhost:8080/"
        },
        "collapsed": true,
        "id": "KmAhd9ki8guq",
        "outputId": "2a84764f-eb4d-4dee-b279-75239b315d73"
      },
      "outputs": [
        {
          "output_type": "stream",
          "name": "stdout",
          "text": [
            "BertModel(\n",
            "  (embeddings): BertEmbeddings(\n",
            "    (word_embeddings): Embedding(30522, 768, padding_idx=0)\n",
            "    (position_embeddings): Embedding(512, 768)\n",
            "    (token_type_embeddings): Embedding(2, 768)\n",
            "    (LayerNorm): LayerNorm((768,), eps=1e-12, elementwise_affine=True)\n",
            "    (dropout): Dropout(p=0.1, inplace=False)\n",
            "  )\n",
            "  (encoder): BertEncoder(\n",
            "    (layer): ModuleList(\n",
            "      (0-11): 12 x BertLayer(\n",
            "        (attention): BertAttention(\n",
            "          (self): BertSdpaSelfAttention(\n",
            "            (query): Linear(in_features=768, out_features=768, bias=True)\n",
            "            (key): Linear(in_features=768, out_features=768, bias=True)\n",
            "            (value): Linear(in_features=768, out_features=768, bias=True)\n",
            "            (dropout): Dropout(p=0.1, inplace=False)\n",
            "          )\n",
            "          (output): BertSelfOutput(\n",
            "            (dense): Linear(in_features=768, out_features=768, bias=True)\n",
            "            (LayerNorm): LayerNorm((768,), eps=1e-12, elementwise_affine=True)\n",
            "            (dropout): Dropout(p=0.1, inplace=False)\n",
            "          )\n",
            "        )\n",
            "        (intermediate): BertIntermediate(\n",
            "          (dense): Linear(in_features=768, out_features=3072, bias=True)\n",
            "          (intermediate_act_fn): GELUActivation()\n",
            "        )\n",
            "        (output): BertOutput(\n",
            "          (dense): Linear(in_features=3072, out_features=768, bias=True)\n",
            "          (LayerNorm): LayerNorm((768,), eps=1e-12, elementwise_affine=True)\n",
            "          (dropout): Dropout(p=0.1, inplace=False)\n",
            "        )\n",
            "      )\n",
            "    )\n",
            "  )\n",
            "  (pooler): BertPooler(\n",
            "    (dense): Linear(in_features=768, out_features=768, bias=True)\n",
            "    (activation): Tanh()\n",
            "  )\n",
            ")\n"
          ]
        }
      ],
      "source": [
        "# print bert architecture\n",
        "print(bert)"
      ]
    },
    {
      "cell_type": "code",
      "execution_count": null,
      "metadata": {
        "colab": {
          "base_uri": "https://localhost:8080/"
        },
        "id": "4ycxDTq08jfD",
        "outputId": "64d1e039-495e-4643-8313-ac88e3ab00f8"
      },
      "outputs": [
        {
          "output_type": "stream",
          "name": "stderr",
          "text": [
            "/usr/local/lib/python3.10/dist-packages/transformers/tokenization_utils_base.py:1601: FutureWarning: `clean_up_tokenization_spaces` was not set. It will be set to `True` by default. This behavior will be depracted in transformers v4.45, and will be then set to `False` by default. For more details check this issue: https://github.com/huggingface/transformers/issues/31884\n",
            "  warnings.warn(\n"
          ]
        }
      ],
      "source": [
        "#Download BERT Tokenizer\n",
        "#importing fast \"BERT\" tokenizer\n",
        "from transformers import BertTokenizerFast\n",
        "\n",
        "# Load BERT tokenizer\n",
        "tokenizer = BertTokenizerFast.from_pretrained('bert-base-uncased', do_lower_case=True)"
      ]
    },
    {
      "cell_type": "code",
      "execution_count": null,
      "metadata": {
        "colab": {
          "base_uri": "https://localhost:8080/"
        },
        "id": "jJcCkXDz8sh3",
        "outputId": "afffea9a-7773-4254-8075-1cf78eb30044"
      },
      "outputs": [
        {
          "output_type": "stream",
          "name": "stdout",
          "text": [
            "Integer Sequence: [101, 3958, 2003, 1037, 15610, 102, 0, 0, 0, 0]\n"
          ]
        },
        {
          "output_type": "stream",
          "name": "stderr",
          "text": [
            "/usr/local/lib/python3.10/dist-packages/transformers/tokenization_utils_base.py:2870: FutureWarning: The `pad_to_max_length` argument is deprecated and will be removed in a future version, use `padding=True` or `padding='longest'` to pad to the longest sequence in the batch, or use `padding='max_length'` to pad to a max length. In this case, you can give a specific length with `max_length` (e.g. `max_length=45`) or leave max_length to None to pad to the maximal input size of the model (e.g. 512 for Bert).\n",
            "  warnings.warn(\n"
          ]
        }
      ],
      "source": [
        "text = 'Jim is a waiter'\n",
        "sent_id = tokenizer.encode(text,\n",
        "                           # add [CLS] and [SEP] tokens\n",
        "                           add_special_tokens=True,\n",
        "                           # specify maximum length for the sequences\n",
        "                           max_length = 10,\n",
        "                           truncation = True,\n",
        "                           # add pad tokens to the right side of the sequence\n",
        "                           pad_to_max_length='right')\n",
        "\n",
        "# print integer sequence\n",
        "print(\"Integer Sequence: {}\".format(sent_id))"
      ]
    },
    {
      "cell_type": "code",
      "execution_count": null,
      "metadata": {
        "colab": {
          "base_uri": "https://localhost:8080/"
        },
        "id": "4M-_ZPOSAk-3",
        "outputId": "08bb44f3-3781-4f8f-e260-bc6660e115b4"
      },
      "outputs": [
        {
          "output_type": "stream",
          "name": "stdout",
          "text": [
            "Attention Mask: [1, 1, 1, 1, 1, 1, 0, 0, 0, 0]\n"
          ]
        }
      ],
      "source": [
        "# mask to avoid performing attention on padding token indices.\n",
        "# mask values: 1 for tokens that are NOT MASKED, 0 for MASKED tokens.\n",
        "att_mask = [int(tok > 0) for tok in sent_id]\n",
        "\n",
        "print(\"Attention Mask:\",att_mask)"
      ]
    },
    {
      "cell_type": "code",
      "execution_count": null,
      "metadata": {
        "colab": {
          "base_uri": "https://localhost:8080/"
        },
        "id": "UMC00jwYAqTM",
        "outputId": "3977c9d9-139d-49f9-8401-099aedbdbd70"
      },
      "outputs": [
        {
          "output_type": "stream",
          "name": "stdout",
          "text": [
            "tensor([[  101,  3958,  2003,  1037, 15610,   102,     0,     0,     0,     0]])\n"
          ]
        }
      ],
      "source": [
        "# convert lists to tensors\n",
        "sent_id = torch.tensor(sent_id)\n",
        "att_mask = torch.tensor(att_mask)\n",
        "\n",
        "# reshaping tensor in form of (batch,text length)\n",
        "sent_id = sent_id.unsqueeze(0)\n",
        "att_mask = att_mask.unsqueeze(0)\n",
        "\n",
        "# reshaped tensor\n",
        "print(sent_id)"
      ]
    },
    {
      "cell_type": "code",
      "execution_count": null,
      "metadata": {
        "id": "7dRqB0zvBPff"
      },
      "outputs": [],
      "source": [
        "# pass integer sequence to bert model\n",
        "outputs = bert(sent_id, attention_mask=att_mask)"
      ]
    },
    {
      "cell_type": "code",
      "execution_count": null,
      "metadata": {
        "colab": {
          "base_uri": "https://localhost:8080/"
        },
        "id": "gJtfPEeKBSPK",
        "outputId": "054fb38e-0221-4f74-810a-e9f6929682b4"
      },
      "outputs": [
        {
          "output_type": "stream",
          "name": "stdout",
          "text": [
            "Shape of last hidden states: torch.Size([1, 10, 768])\n",
            "Shape of CLS hidden state: torch.Size([1, 768])\n"
          ]
        }
      ],
      "source": [
        "## unpack the ouput of bert model\n",
        "# hidden states at each timestep\n",
        "all_hidden_states = outputs[0]\n",
        "# hidden states at first timestep ([CLS] token)\n",
        "cls_hidden_state = outputs[1]\n",
        "\n",
        "print(\"Shape of last hidden states:\",all_hidden_states.shape)\n",
        "print(\"Shape of CLS hidden state:\",cls_hidden_state.shape)"
      ]
    },
    {
      "cell_type": "code",
      "execution_count": null,
      "metadata": {
        "colab": {
          "base_uri": "https://localhost:8080/",
          "height": 206
        },
        "id": "0PM07NJbBanZ",
        "outputId": "f496a3b8-007c-44ea-e6e1-603b5dea7575"
      },
      "outputs": [
        {
          "output_type": "execute_result",
          "data": {
            "text/plain": [
              "                                unique_hash  \\\n",
              "0  2e180be4c9214c1f5ab51fd8cc32bc80c9f612e0   \n",
              "1  9eba8f80e7e20f3a2f48685530748fbfa95943e4   \n",
              "2  fe809672251f6bd0d986e00380f48d047c7e7b76   \n",
              "3  bd22104dfa9ec80db4099523e03fae7a52735eb6   \n",
              "4  b227688381f9b25e5b65109dd00f7f895e838249   \n",
              "\n",
              "                                                text        drug  sentiment  \n",
              "0  Autoimmune diseases tend to come in clusters. ...     gilenya          2  \n",
              "1  I can completely understand why you’d want to ...     gilenya          2  \n",
              "2  Interesting that it only targets S1P-1/5 recep...  fingolimod          2  \n",
              "3  Very interesting, grand merci. Now I wonder wh...     ocrevus          2  \n",
              "4  Hi everybody, My latest MRI results for Brain ...     gilenya          1  "
            ],
            "text/html": [
              "\n",
              "  <div id=\"df-5e764844-a47f-4caa-86b2-d10de0c68b40\" class=\"colab-df-container\">\n",
              "    <div>\n",
              "<style scoped>\n",
              "    .dataframe tbody tr th:only-of-type {\n",
              "        vertical-align: middle;\n",
              "    }\n",
              "\n",
              "    .dataframe tbody tr th {\n",
              "        vertical-align: top;\n",
              "    }\n",
              "\n",
              "    .dataframe thead th {\n",
              "        text-align: right;\n",
              "    }\n",
              "</style>\n",
              "<table border=\"1\" class=\"dataframe\">\n",
              "  <thead>\n",
              "    <tr style=\"text-align: right;\">\n",
              "      <th></th>\n",
              "      <th>unique_hash</th>\n",
              "      <th>text</th>\n",
              "      <th>drug</th>\n",
              "      <th>sentiment</th>\n",
              "    </tr>\n",
              "  </thead>\n",
              "  <tbody>\n",
              "    <tr>\n",
              "      <th>0</th>\n",
              "      <td>2e180be4c9214c1f5ab51fd8cc32bc80c9f612e0</td>\n",
              "      <td>Autoimmune diseases tend to come in clusters. ...</td>\n",
              "      <td>gilenya</td>\n",
              "      <td>2</td>\n",
              "    </tr>\n",
              "    <tr>\n",
              "      <th>1</th>\n",
              "      <td>9eba8f80e7e20f3a2f48685530748fbfa95943e4</td>\n",
              "      <td>I can completely understand why you’d want to ...</td>\n",
              "      <td>gilenya</td>\n",
              "      <td>2</td>\n",
              "    </tr>\n",
              "    <tr>\n",
              "      <th>2</th>\n",
              "      <td>fe809672251f6bd0d986e00380f48d047c7e7b76</td>\n",
              "      <td>Interesting that it only targets S1P-1/5 recep...</td>\n",
              "      <td>fingolimod</td>\n",
              "      <td>2</td>\n",
              "    </tr>\n",
              "    <tr>\n",
              "      <th>3</th>\n",
              "      <td>bd22104dfa9ec80db4099523e03fae7a52735eb6</td>\n",
              "      <td>Very interesting, grand merci. Now I wonder wh...</td>\n",
              "      <td>ocrevus</td>\n",
              "      <td>2</td>\n",
              "    </tr>\n",
              "    <tr>\n",
              "      <th>4</th>\n",
              "      <td>b227688381f9b25e5b65109dd00f7f895e838249</td>\n",
              "      <td>Hi everybody, My latest MRI results for Brain ...</td>\n",
              "      <td>gilenya</td>\n",
              "      <td>1</td>\n",
              "    </tr>\n",
              "  </tbody>\n",
              "</table>\n",
              "</div>\n",
              "    <div class=\"colab-df-buttons\">\n",
              "\n",
              "  <div class=\"colab-df-container\">\n",
              "    <button class=\"colab-df-convert\" onclick=\"convertToInteractive('df-5e764844-a47f-4caa-86b2-d10de0c68b40')\"\n",
              "            title=\"Convert this dataframe to an interactive table.\"\n",
              "            style=\"display:none;\">\n",
              "\n",
              "  <svg xmlns=\"http://www.w3.org/2000/svg\" height=\"24px\" viewBox=\"0 -960 960 960\">\n",
              "    <path d=\"M120-120v-720h720v720H120Zm60-500h600v-160H180v160Zm220 220h160v-160H400v160Zm0 220h160v-160H400v160ZM180-400h160v-160H180v160Zm440 0h160v-160H620v160ZM180-180h160v-160H180v160Zm440 0h160v-160H620v160Z\"/>\n",
              "  </svg>\n",
              "    </button>\n",
              "\n",
              "  <style>\n",
              "    .colab-df-container {\n",
              "      display:flex;\n",
              "      gap: 12px;\n",
              "    }\n",
              "\n",
              "    .colab-df-convert {\n",
              "      background-color: #E8F0FE;\n",
              "      border: none;\n",
              "      border-radius: 50%;\n",
              "      cursor: pointer;\n",
              "      display: none;\n",
              "      fill: #1967D2;\n",
              "      height: 32px;\n",
              "      padding: 0 0 0 0;\n",
              "      width: 32px;\n",
              "    }\n",
              "\n",
              "    .colab-df-convert:hover {\n",
              "      background-color: #E2EBFA;\n",
              "      box-shadow: 0px 1px 2px rgba(60, 64, 67, 0.3), 0px 1px 3px 1px rgba(60, 64, 67, 0.15);\n",
              "      fill: #174EA6;\n",
              "    }\n",
              "\n",
              "    .colab-df-buttons div {\n",
              "      margin-bottom: 4px;\n",
              "    }\n",
              "\n",
              "    [theme=dark] .colab-df-convert {\n",
              "      background-color: #3B4455;\n",
              "      fill: #D2E3FC;\n",
              "    }\n",
              "\n",
              "    [theme=dark] .colab-df-convert:hover {\n",
              "      background-color: #434B5C;\n",
              "      box-shadow: 0px 1px 3px 1px rgba(0, 0, 0, 0.15);\n",
              "      filter: drop-shadow(0px 1px 2px rgba(0, 0, 0, 0.3));\n",
              "      fill: #FFFFFF;\n",
              "    }\n",
              "  </style>\n",
              "\n",
              "    <script>\n",
              "      const buttonEl =\n",
              "        document.querySelector('#df-5e764844-a47f-4caa-86b2-d10de0c68b40 button.colab-df-convert');\n",
              "      buttonEl.style.display =\n",
              "        google.colab.kernel.accessAllowed ? 'block' : 'none';\n",
              "\n",
              "      async function convertToInteractive(key) {\n",
              "        const element = document.querySelector('#df-5e764844-a47f-4caa-86b2-d10de0c68b40');\n",
              "        const dataTable =\n",
              "          await google.colab.kernel.invokeFunction('convertToInteractive',\n",
              "                                                    [key], {});\n",
              "        if (!dataTable) return;\n",
              "\n",
              "        const docLinkHtml = 'Like what you see? Visit the ' +\n",
              "          '<a target=\"_blank\" href=https://colab.research.google.com/notebooks/data_table.ipynb>data table notebook</a>'\n",
              "          + ' to learn more about interactive tables.';\n",
              "        element.innerHTML = '';\n",
              "        dataTable['output_type'] = 'display_data';\n",
              "        await google.colab.output.renderOutput(dataTable, element);\n",
              "        const docLink = document.createElement('div');\n",
              "        docLink.innerHTML = docLinkHtml;\n",
              "        element.appendChild(docLink);\n",
              "      }\n",
              "    </script>\n",
              "  </div>\n",
              "\n",
              "\n",
              "<div id=\"df-2c39d8cb-a390-4cd6-a25b-619c677dcdd2\">\n",
              "  <button class=\"colab-df-quickchart\" onclick=\"quickchart('df-2c39d8cb-a390-4cd6-a25b-619c677dcdd2')\"\n",
              "            title=\"Suggest charts\"\n",
              "            style=\"display:none;\">\n",
              "\n",
              "<svg xmlns=\"http://www.w3.org/2000/svg\" height=\"24px\"viewBox=\"0 0 24 24\"\n",
              "     width=\"24px\">\n",
              "    <g>\n",
              "        <path d=\"M19 3H5c-1.1 0-2 .9-2 2v14c0 1.1.9 2 2 2h14c1.1 0 2-.9 2-2V5c0-1.1-.9-2-2-2zM9 17H7v-7h2v7zm4 0h-2V7h2v10zm4 0h-2v-4h2v4z\"/>\n",
              "    </g>\n",
              "</svg>\n",
              "  </button>\n",
              "\n",
              "<style>\n",
              "  .colab-df-quickchart {\n",
              "      --bg-color: #E8F0FE;\n",
              "      --fill-color: #1967D2;\n",
              "      --hover-bg-color: #E2EBFA;\n",
              "      --hover-fill-color: #174EA6;\n",
              "      --disabled-fill-color: #AAA;\n",
              "      --disabled-bg-color: #DDD;\n",
              "  }\n",
              "\n",
              "  [theme=dark] .colab-df-quickchart {\n",
              "      --bg-color: #3B4455;\n",
              "      --fill-color: #D2E3FC;\n",
              "      --hover-bg-color: #434B5C;\n",
              "      --hover-fill-color: #FFFFFF;\n",
              "      --disabled-bg-color: #3B4455;\n",
              "      --disabled-fill-color: #666;\n",
              "  }\n",
              "\n",
              "  .colab-df-quickchart {\n",
              "    background-color: var(--bg-color);\n",
              "    border: none;\n",
              "    border-radius: 50%;\n",
              "    cursor: pointer;\n",
              "    display: none;\n",
              "    fill: var(--fill-color);\n",
              "    height: 32px;\n",
              "    padding: 0;\n",
              "    width: 32px;\n",
              "  }\n",
              "\n",
              "  .colab-df-quickchart:hover {\n",
              "    background-color: var(--hover-bg-color);\n",
              "    box-shadow: 0 1px 2px rgba(60, 64, 67, 0.3), 0 1px 3px 1px rgba(60, 64, 67, 0.15);\n",
              "    fill: var(--button-hover-fill-color);\n",
              "  }\n",
              "\n",
              "  .colab-df-quickchart-complete:disabled,\n",
              "  .colab-df-quickchart-complete:disabled:hover {\n",
              "    background-color: var(--disabled-bg-color);\n",
              "    fill: var(--disabled-fill-color);\n",
              "    box-shadow: none;\n",
              "  }\n",
              "\n",
              "  .colab-df-spinner {\n",
              "    border: 2px solid var(--fill-color);\n",
              "    border-color: transparent;\n",
              "    border-bottom-color: var(--fill-color);\n",
              "    animation:\n",
              "      spin 1s steps(1) infinite;\n",
              "  }\n",
              "\n",
              "  @keyframes spin {\n",
              "    0% {\n",
              "      border-color: transparent;\n",
              "      border-bottom-color: var(--fill-color);\n",
              "      border-left-color: var(--fill-color);\n",
              "    }\n",
              "    20% {\n",
              "      border-color: transparent;\n",
              "      border-left-color: var(--fill-color);\n",
              "      border-top-color: var(--fill-color);\n",
              "    }\n",
              "    30% {\n",
              "      border-color: transparent;\n",
              "      border-left-color: var(--fill-color);\n",
              "      border-top-color: var(--fill-color);\n",
              "      border-right-color: var(--fill-color);\n",
              "    }\n",
              "    40% {\n",
              "      border-color: transparent;\n",
              "      border-right-color: var(--fill-color);\n",
              "      border-top-color: var(--fill-color);\n",
              "    }\n",
              "    60% {\n",
              "      border-color: transparent;\n",
              "      border-right-color: var(--fill-color);\n",
              "    }\n",
              "    80% {\n",
              "      border-color: transparent;\n",
              "      border-right-color: var(--fill-color);\n",
              "      border-bottom-color: var(--fill-color);\n",
              "    }\n",
              "    90% {\n",
              "      border-color: transparent;\n",
              "      border-bottom-color: var(--fill-color);\n",
              "    }\n",
              "  }\n",
              "</style>\n",
              "\n",
              "  <script>\n",
              "    async function quickchart(key) {\n",
              "      const quickchartButtonEl =\n",
              "        document.querySelector('#' + key + ' button');\n",
              "      quickchartButtonEl.disabled = true;  // To prevent multiple clicks.\n",
              "      quickchartButtonEl.classList.add('colab-df-spinner');\n",
              "      try {\n",
              "        const charts = await google.colab.kernel.invokeFunction(\n",
              "            'suggestCharts', [key], {});\n",
              "      } catch (error) {\n",
              "        console.error('Error during call to suggestCharts:', error);\n",
              "      }\n",
              "      quickchartButtonEl.classList.remove('colab-df-spinner');\n",
              "      quickchartButtonEl.classList.add('colab-df-quickchart-complete');\n",
              "    }\n",
              "    (() => {\n",
              "      let quickchartButtonEl =\n",
              "        document.querySelector('#df-2c39d8cb-a390-4cd6-a25b-619c677dcdd2 button');\n",
              "      quickchartButtonEl.style.display =\n",
              "        google.colab.kernel.accessAllowed ? 'block' : 'none';\n",
              "    })();\n",
              "  </script>\n",
              "</div>\n",
              "\n",
              "    </div>\n",
              "  </div>\n"
            ],
            "application/vnd.google.colaboratory.intrinsic+json": {
              "type": "dataframe",
              "variable_name": "df",
              "summary": "{\n  \"name\": \"df\",\n  \"rows\": 5279,\n  \"fields\": [\n    {\n      \"column\": \"unique_hash\",\n      \"properties\": {\n        \"dtype\": \"string\",\n        \"num_unique_values\": 5279,\n        \"samples\": [\n          \"8fd3d7ad80791c9343e5cf8a83bd1adf6577d516\",\n          \"75b70aebd619b83228d73da1df1d0b0acc56af57\",\n          \"e2a45e96162496ec79648764a2153696cf0358a8\"\n        ],\n        \"semantic_type\": \"\",\n        \"description\": \"\"\n      }\n    },\n    {\n      \"column\": \"text\",\n      \"properties\": {\n        \"dtype\": \"string\",\n        \"num_unique_values\": 5181,\n        \"samples\": [\n          \"Long-term use may raise your chance of cancer. Lymphoma and other cancers have happened in people who take Imuran (azathioprine tablets) or drugs like it. This has been deadly in some cases. Talk with the doctor. A rare type of cancer called hepatosplenic T-cell lymphoma (HSTCL) has happened with Imuran (azathioprine tablets). These cases have been deadly. Most of the time, these cases happened in teenagers or young adults. Most of these patients were using Imuran (azathioprine tablets) to treat certain types of bowel problems like Crohn disease and  ulcerative colitis . This medicine is not approved for use to treat bowel problems like these. Tell the doctor if you have ever had any type of cancer. Talk with the doctor.  Uses of Imuran: See also: Entyvio It is used to keep the body from turning down the kidney after a kidney transplant . It is used to treat rheumatoid arthritis . It may be given to you for other reasons. Talk with the doctor.  What do I need to tell my doctor BEFORE I take Imuran? For all uses of Imuran (azathioprine tablets): If you have an allergy to azathioprine or any other part of Imuran (azathioprine tablets). If you are allergic to any drugs like this one, any other drugs, foods, or other substances. Tell your doctor about the allergy and what signs you had, like rash; hives ; itching; shortness of breath; wheezing; cough; swelling of face, lips, tongue, or throat; or any other signs. If you have ever been treated with chlorambucil , cyclosporine , or melphalan in the past. If you are breast-feeding or plan to breast-feed. Rheumatoid arthritis patients: If you are pregnant or may be pregnant. Do not take Imuran (azathioprine tablets) if you are pregnant. This is not a list of all drugs or health problems that interact with Imuran (azathioprine tablets). Tell your doctor and pharmacist about all of your drugs (prescription or OTC, natural products,  vitamins ) and health problems. You must check to make sure that it is safe for you to take Imuran (azathioprine tablets) with all of your drugs and health problems. Do not start, stop, or change the dose of any drug without checking with your doctor.  What are some things I need to know or do while I take Imuran? Tell all of your health care providers that you take Imuran (azathioprine tablets). This includes your doctors, nurses, pharmacists, and dentists. You may have more of a chance of getting an infection. Wash hands often. Stay away from people with infections, colds, or flu. Some infections have been very bad and even deadly. You may bleed more easily. Be careful and avoid injury. Use a soft toothbrush and an electric razor. If you have a thiopurine methyltransferase deficiency, talk with your doctor. Have blood work checked as you have been told by the doctor. Talk with the doctor. The chance of skin cancer may be raised. Avoid lots of sun, sunlamps, and tanning beds. Use sunscreen and wear clothing and eyewear that protects you from the sun. You may need to have your skin checked while you take Imuran (azathioprine tablets). Talk with your doctor. Talk with your doctor before getting any vaccines. Use with Imuran (azathioprine tablets) may either raise the chance of an infection or make the vaccine not work as well. If you are taking warfarin , talk with your doctor. You may need to have your blood work checked more closely while you are taking it with Imuran (azathioprine tablets). This medicine may cause harm to the unborn baby if you take it while you are pregnant. Use birth control that you can trust to prevent pregnancy while taking Imuran (azathioprine tablets). If you are pregnant or you get pregnant while taking Imuran (azathioprine tablets), call your doctor right away.  How is this medicine (Imuran) best taken? Use Imuran (azathioprine tablets) as ordered by your doctor. Read all information given to you. Follow all instructions closely. Take after meals unless your doctor says otherwise. To gain the most benefit, do not miss doses. Keep taking Imuran (azathioprine tablets) as you have been told by your doctor or other health care provider, even if you feel well.  What do I do if I miss a dose? Take a missed dose as soon as you think about it. If it is close to the time for your next dose, skip the missed dose and go back to your normal time. Do not take 2 doses at the same time or extra doses.  See also: Dosage Information (in more detail) What are some side effects that I need to call my doctor about right away? WARNING/CAUTION: Even though it may be rare, some people may have very bad and sometimes deadly side effects when taking a drug. Tell your doctor or get medical help right away if you have any of the following signs or symptoms that may be related to a very bad side effect: Signs of an allergic reaction, like rash; hives; itching; red, swollen, blistered, or peeling skin with or without fever; wheezing; tightness in the chest or throat; trouble breathing, swallowing, or talking; unusual hoarseness; or swelling of the mouth, face, lips, tongue, or throat. Signs of infection like fever, chills, very bad sore throat , ear or sinus pain, cough, more sputum or change in color of sputum, pain with passing urine, mouth sores, or wound that will not heal. Signs of bleeding like throwing up blood or throw up that looks like coffee grounds; coughing up blood ; blood in the urine; black, red, or tarry stools; bleeding from the gums; vaginal bleeding that is not normal; bruises without a reason or that get bigger; or any bleeding that is very bad or that you cannot stop. Signs of liver problems like dark urine, feeling tired, not hungry, upset stomach or stomach pain, light-colored stools, throwing up, or yellow skin or eyes. Signs of a pancreas problem ( pancreatitis ) like very bad stomach pain, very bad back pain , or very bad upset stomach or throwing up. Chest pain or pressure. Very upset stomach or throwing up. Feeling very tired or weak. Very bad dizziness or passing out. Loose stools ( diarrhea ). Muscle pain or weakness. Night sweats . A big weight loss . Fever that does not go away. Change in color or size of a mole. A skin lump or growth. A very bad brain problem called progressive multifocal leukoencephalopathy (PML) has happened with Imuran (azathioprine tablets). It may cause disability or can be deadly. Tell your doctor right away if you have signs like confusion, memory problems, low mood ( depression ), change in the way you act, change in strength on 1 side is greater than the other, trouble speaking or thinking, change in balance, or change in eyesight.  What are some other side effects of Imuran? All drugs may cause side effects. However, many people have no side effects or only have minor side effects. Call your doctor or get medical help if any of these side effects or any other side effects bother you or do not go away: Upset stomach or throwing up. These are not all of the side effects that may occur. If you have questions about side effects, call your doctor. Call your doctor for medical advice about side effects. You may report side effects to the FDA at 1-800-FDA-1088. You may also report side effects at http://www.fda.gov/medwatch.  See also: Side effects (in more detail) If OVERDOSE is suspected: If you think there has been an overdose, call your poison control center or get medical care right away. Be ready to tell or show what was taken, how much, and when it happened.  How do I store and/or throw out Imuran? Store at room temperature. Store in a dry place. Do not store in a bathroom. Protect from light. Keep all drugs in a safe place. Keep all drugs out of the reach of children and pets. Throw away unused or expired drugs. Do not flush down a toilet or pour down a drain unless you are told to do so. Check with your pharmacist if you have questions about the best way to throw out drugs. There may be drug take-back programs in your area.  Consumer information use If your symptoms or health problems do not get better or if they become worse, call your doctor. Do not share your drugs with others and do not take anyone else's drugs. Keep a list of all your drugs (prescription, natural products, vitamins , OTC) with you. Give this list to your doctor. Talk with the doctor before starting any new drug, including prescription or OTC, natural products, or vitamins . Some drugs may have another patient information leaflet. Check with your pharmacist. If you have any questions about Imuran (azathioprine tablets), please talk with your doctor, nurse, pharmacist, or other health care provider. If you think there has been an overdose, call your poison control center or get medical care right away. Be ready to tell or show what was taken, how much, and when it happened.\",\n          \"Not mildly effective...based on the outcomes distinctly negative. There was a positive trial on spasticity just not mine. As for ECTRIMS every 5 years...No. The purpose of ECTRIMS is to keep your neurologists up to date. If there are no new treatments so be it, however ocrelizumab is new since last year and neurologists need to be informed about it. They have to undertake so many hours of training each year to keep current. Maybe I will give you my take on the MS SMART study, but today is not that time. ProfG may give you a round up once he has had a rest, he has been very bust ths week as usual. There are a number of positives that we can take from this.\",\n          \"Hi  Dane life \\u200d , welcome to the forum. I was diagnosed with lung cancer in April but due to delays at the lab it took until the end of June before the oncologist decided to put me on keytruda. I had the third treatment a week ago. There have been no serious side effects so far. I am a little more tired , weaker and mild joint pain occasionally. I cough up a lot of fluid but Dr. says that's the tumor/cancer causing this not the keytruda. My appetite has been good-even putting on weight. I have no problem driving 3 hours for treatment. Good luck on your journey with us.\"\n        ],\n        \"semantic_type\": \"\",\n        \"description\": \"\"\n      }\n    },\n    {\n      \"column\": \"drug\",\n      \"properties\": {\n        \"dtype\": \"category\",\n        \"num_unique_values\": 102,\n        \"samples\": [\n          \"atezolizumab\",\n          \"pf-00547659\",\n          \"imfinzi\"\n        ],\n        \"semantic_type\": \"\",\n        \"description\": \"\"\n      }\n    },\n    {\n      \"column\": \"sentiment\",\n      \"properties\": {\n        \"dtype\": \"number\",\n        \"std\": 0,\n        \"min\": 0,\n        \"max\": 2,\n        \"num_unique_values\": 3,\n        \"samples\": [\n          2,\n          1,\n          0\n        ],\n        \"semantic_type\": \"\",\n        \"description\": \"\"\n      }\n    }\n  ]\n}"
            }
          },
          "metadata": {},
          "execution_count": 22
        }
      ],
      "source": [
        "import pandas as pd\n",
        "# upload the data and extract the file\n",
        "df = pd.read_csv('train.csv')\n",
        "df.head()"
      ]
    },
    {
      "cell_type": "code",
      "execution_count": null,
      "metadata": {
        "colab": {
          "base_uri": "https://localhost:8080/"
        },
        "id": "-5DGdSaeC-Mv",
        "outputId": "dc7fa175-71de-41e2-ca44-50e93e67e103"
      },
      "outputs": [
        {
          "output_type": "execute_result",
          "data": {
            "text/plain": [
              "(5279, 4)"
            ]
          },
          "metadata": {},
          "execution_count": 23
        }
      ],
      "source": [
        "#shape of the dataframe\n",
        "df.shape"
      ]
    },
    {
      "cell_type": "code",
      "execution_count": null,
      "metadata": {
        "colab": {
          "base_uri": "https://localhost:8080/",
          "height": 209
        },
        "id": "ZolJP8JfHvw2",
        "outputId": "420c4127-7386-4f37-c7f6-92c2ba6f67d1"
      },
      "outputs": [
        {
          "output_type": "execute_result",
          "data": {
            "text/plain": [
              "sentiment\n",
              "2    3825\n",
              "1     837\n",
              "0     617\n",
              "Name: count, dtype: int64"
            ],
            "text/html": [
              "<div>\n",
              "<style scoped>\n",
              "    .dataframe tbody tr th:only-of-type {\n",
              "        vertical-align: middle;\n",
              "    }\n",
              "\n",
              "    .dataframe tbody tr th {\n",
              "        vertical-align: top;\n",
              "    }\n",
              "\n",
              "    .dataframe thead th {\n",
              "        text-align: right;\n",
              "    }\n",
              "</style>\n",
              "<table border=\"1\" class=\"dataframe\">\n",
              "  <thead>\n",
              "    <tr style=\"text-align: right;\">\n",
              "      <th></th>\n",
              "      <th>count</th>\n",
              "    </tr>\n",
              "    <tr>\n",
              "      <th>sentiment</th>\n",
              "      <th></th>\n",
              "    </tr>\n",
              "  </thead>\n",
              "  <tbody>\n",
              "    <tr>\n",
              "      <th>2</th>\n",
              "      <td>3825</td>\n",
              "    </tr>\n",
              "    <tr>\n",
              "      <th>1</th>\n",
              "      <td>837</td>\n",
              "    </tr>\n",
              "    <tr>\n",
              "      <th>0</th>\n",
              "      <td>617</td>\n",
              "    </tr>\n",
              "  </tbody>\n",
              "</table>\n",
              "</div><br><label><b>dtype:</b> int64</label>"
            ]
          },
          "metadata": {},
          "execution_count": 24
        }
      ],
      "source": [
        "# class distribution\n",
        "df['sentiment'].value_counts()"
      ]
    },
    {
      "cell_type": "code",
      "execution_count": null,
      "metadata": {
        "colab": {
          "base_uri": "https://localhost:8080/",
          "height": 209
        },
        "id": "d7i46q8nH02c",
        "outputId": "6f13b045-3d5b-4667-aaa7-0e9f271a3f98"
      },
      "outputs": [
        {
          "output_type": "execute_result",
          "data": {
            "text/plain": [
              "sentiment\n",
              "2    0.724569\n",
              "1    0.158553\n",
              "0    0.116878\n",
              "Name: proportion, dtype: float64"
            ],
            "text/html": [
              "<div>\n",
              "<style scoped>\n",
              "    .dataframe tbody tr th:only-of-type {\n",
              "        vertical-align: middle;\n",
              "    }\n",
              "\n",
              "    .dataframe tbody tr th {\n",
              "        vertical-align: top;\n",
              "    }\n",
              "\n",
              "    .dataframe thead th {\n",
              "        text-align: right;\n",
              "    }\n",
              "</style>\n",
              "<table border=\"1\" class=\"dataframe\">\n",
              "  <thead>\n",
              "    <tr style=\"text-align: right;\">\n",
              "      <th></th>\n",
              "      <th>proportion</th>\n",
              "    </tr>\n",
              "    <tr>\n",
              "      <th>sentiment</th>\n",
              "      <th></th>\n",
              "    </tr>\n",
              "  </thead>\n",
              "  <tbody>\n",
              "    <tr>\n",
              "      <th>2</th>\n",
              "      <td>0.724569</td>\n",
              "    </tr>\n",
              "    <tr>\n",
              "      <th>1</th>\n",
              "      <td>0.158553</td>\n",
              "    </tr>\n",
              "    <tr>\n",
              "      <th>0</th>\n",
              "      <td>0.116878</td>\n",
              "    </tr>\n",
              "  </tbody>\n",
              "</table>\n",
              "</div><br><label><b>dtype:</b> float64</label>"
            ]
          },
          "metadata": {},
          "execution_count": 25
        }
      ],
      "source": [
        "# class distribution\n",
        "df['sentiment'].value_counts(normalize = True)"
      ]
    },
    {
      "cell_type": "code",
      "execution_count": null,
      "metadata": {
        "id": "vZtzUmLiH6px"
      },
      "outputs": [],
      "source": [
        "# saving the value counts to a list\n",
        "class_counts = df['sentiment'].value_counts().tolist()"
      ]
    },
    {
      "cell_type": "code",
      "execution_count": null,
      "metadata": {
        "colab": {
          "base_uri": "https://localhost:8080/"
        },
        "id": "PKV9FhvzNOPA",
        "outputId": "1c91980b-92b6-4bdd-a0f1-37a94f6c0f4f"
      },
      "outputs": [
        {
          "output_type": "stream",
          "name": "stdout",
          "text": [
            "{'on', 'too', 'weren', 's', 'yours', \"shan't\", \"wouldn't\", 'not', 'just', 'hadn', 'll', 'is', 'between', 'doesn', 'mightn', 'hasn', 'y', 'below', 'own', 'am', 'only', 'ain', 'had', 'shouldn', 'before', 'of', 'yourselves', 'didn', \"you've\", 'which', \"should've\", 'from', 'our', 'off', 'where', 'itself', 'should', \"you're\", 'd', 'why', 'his', 'ours', 'being', 'be', 'few', 'out', 'while', 'needn', 'wouldn', 'other', 'those', 'has', 'o', 'how', \"aren't\", \"hadn't\", 'its', 'this', 'an', 'shan', 'these', 'very', 'what', 'do', 'them', 'they', 'when', 'until', 'whom', 'was', 'into', \"isn't\", 'down', 'hers', \"needn't\", \"you'll\", \"it's\", 'then', 'a', 'who', \"doesn't\", 'himself', 'for', 'most', 'couldn', 'won', 'her', 'aren', 'and', 'theirs', 'because', 'your', 'their', 'you', 'mustn', 'to', 'or', 'by', 'each', 'does', 'are', 'in', 'here', 'both', 'me', \"mightn't\", 'no', 'all', 'above', \"haven't\", 'wasn', \"don't\", 'she', 'were', 'that', 'herself', 'the', 'against', 'if', \"mustn't\", \"couldn't\", 'once', 'about', 'don', 'm', 'at', \"shouldn't\", 'again', 'we', 'yourself', 'during', 'haven', \"won't\", 'doing', 'than', 't', 'so', 'isn', 'there', \"that'll\", 'through', 'ma', 'as', 'further', 'with', 'after', 'up', \"hasn't\", 'same', 'did', \"didn't\", 'under', 'any', 'him', 'themselves', 'will', 've', \"she's\", 'i', 'myself', 'some', 'been', 'can', \"you'd\", 'having', 'such', 'it', 'now', \"weren't\", 'nor', \"wasn't\", 'over', 'he', 'but', 'more', 're', 'my', 'have', 'ourselves'}\n"
          ]
        },
        {
          "output_type": "stream",
          "name": "stderr",
          "text": [
            "[nltk_data] Downloading package stopwords to /root/nltk_data...\n",
            "[nltk_data]   Unzipping corpora/stopwords.zip.\n"
          ]
        }
      ],
      "source": [
        "import nltk\n",
        "from nltk.corpus import stopwords\n",
        "\n",
        "# Download the stopwords data if not already downloaded\n",
        "nltk.download('stopwords')\n",
        "\n",
        "# Load the list of English stopwords\n",
        "stop_words = set(stopwords.words('english'))\n",
        "print(stop_words)"
      ]
    },
    {
      "cell_type": "code",
      "execution_count": null,
      "metadata": {
        "colab": {
          "base_uri": "https://localhost:8080/"
        },
        "id": "IND52HXlRbxd",
        "outputId": "1f68a03c-851c-46f9-abd1-65e06c0525b1"
      },
      "outputs": [
        {
          "output_type": "stream",
          "name": "stderr",
          "text": [
            "[nltk_data] Downloading package punkt to /root/nltk_data...\n",
            "[nltk_data]   Unzipping tokenizers/punkt.zip.\n"
          ]
        },
        {
          "output_type": "execute_result",
          "data": {
            "text/plain": [
              "True"
            ]
          },
          "metadata": {},
          "execution_count": 28
        }
      ],
      "source": [
        "nltk.download('punkt')"
      ]
    },
    {
      "cell_type": "code",
      "execution_count": null,
      "metadata": {
        "colab": {
          "base_uri": "https://localhost:8080/"
        },
        "id": "EoVU0jmhOsJ-",
        "outputId": "2239f27f-30a2-407b-c46a-d04205e440b0"
      },
      "outputs": [
        {
          "output_type": "stream",
          "name": "stderr",
          "text": [
            "[nltk_data] Downloading package wordnet to /root/nltk_data...\n"
          ]
        },
        {
          "output_type": "execute_result",
          "data": {
            "text/plain": [
              "True"
            ]
          },
          "metadata": {},
          "execution_count": 29
        }
      ],
      "source": [
        "nltk.download('wordnet')"
      ]
    },
    {
      "cell_type": "code",
      "execution_count": null,
      "metadata": {
        "colab": {
          "base_uri": "https://localhost:8080/"
        },
        "id": "ILhVFR3aIJqT",
        "outputId": "f22e4fe9-2e83-45bb-9963-efaa022fef37"
      },
      "outputs": [
        {
          "output_type": "stream",
          "name": "stdout",
          "text": [
            "Collecting contractions\n",
            "  Downloading contractions-0.1.73-py2.py3-none-any.whl.metadata (1.2 kB)\n",
            "Collecting textsearch>=0.0.21 (from contractions)\n",
            "  Downloading textsearch-0.0.24-py2.py3-none-any.whl.metadata (1.2 kB)\n",
            "Collecting anyascii (from textsearch>=0.0.21->contractions)\n",
            "  Downloading anyascii-0.3.2-py3-none-any.whl.metadata (1.5 kB)\n",
            "Collecting pyahocorasick (from textsearch>=0.0.21->contractions)\n",
            "  Downloading pyahocorasick-2.1.0-cp310-cp310-manylinux_2_5_x86_64.manylinux1_x86_64.manylinux_2_12_x86_64.manylinux2010_x86_64.whl.metadata (13 kB)\n",
            "Downloading contractions-0.1.73-py2.py3-none-any.whl (8.7 kB)\n",
            "Downloading textsearch-0.0.24-py2.py3-none-any.whl (7.6 kB)\n",
            "Downloading anyascii-0.3.2-py3-none-any.whl (289 kB)\n",
            "\u001b[2K   \u001b[90m━━━━━━━━━━━━━━━━━━━━━━━━━━━━━━━━━━━━━━━━\u001b[0m \u001b[32m289.9/289.9 kB\u001b[0m \u001b[31m23.6 MB/s\u001b[0m eta \u001b[36m0:00:00\u001b[0m\n",
            "\u001b[?25hDownloading pyahocorasick-2.1.0-cp310-cp310-manylinux_2_5_x86_64.manylinux1_x86_64.manylinux_2_12_x86_64.manylinux2010_x86_64.whl (110 kB)\n",
            "\u001b[2K   \u001b[90m━━━━━━━━━━━━━━━━━━━━━━━━━━━━━━━━━━━━━━━━\u001b[0m \u001b[32m110.7/110.7 kB\u001b[0m \u001b[31m10.4 MB/s\u001b[0m eta \u001b[36m0:00:00\u001b[0m\n",
            "\u001b[?25hInstalling collected packages: pyahocorasick, anyascii, textsearch, contractions\n",
            "Successfully installed anyascii-0.3.2 contractions-0.1.73 pyahocorasick-2.1.0 textsearch-0.0.24\n"
          ]
        }
      ],
      "source": [
        "!pip install contractions\n",
        "import re\n",
        "import contractions\n",
        "from nltk.corpus import stopwords\n",
        "from nltk.stem import WordNetLemmatizer\n",
        "from nltk.tokenize import word_tokenize\n",
        "\n",
        "\n",
        "# Initialize stopwords and lemmatizer\n",
        "stop_words = set(stopwords.words('english'))\n",
        "lemmatizer = WordNetLemmatizer()\n",
        "\n",
        "def preprocessor(text):\n",
        "    # Expand contractions\n",
        "    text = contractions.fix(text)\n",
        "\n",
        "    # Remove URLs\n",
        "    text = re.sub(r'http\\S+', '', text)\n",
        "\n",
        "    # Replace numbers\n",
        "    text = re.sub(r'\\d+', '<num>', text)\n",
        "\n",
        "    # Replace emails and mentions\n",
        "    text = re.sub(r'\\S+@\\S+', '<email>', text)  # replace emails with <email>\n",
        "    text = re.sub(r'@\\w+', '<mention>', text)   # replace mentions with <mention>\n",
        "\n",
        "    # Remove punctuation and special characters\n",
        "    text = re.sub(r'[^a-zA-Z0-9\\s]', '', text)\n",
        "\n",
        "    # Removes emojis and certain symbols\n",
        "    text = re.sub(r'[^\\w\\s,]', '', text)\n",
        "\n",
        "    # Tokenize text\n",
        "    tokens = word_tokenize(text)\n",
        "\n",
        "    # Replace numbers with a placeholder\n",
        "    text = re.sub(r'\\d+', '<num>', text)\n",
        "\n",
        "    # Remove stopwords\n",
        "    tokens = [word for word in tokens if word not in stop_words]\n",
        "\n",
        "    # Lemmatize tokens\n",
        "    tokens = [lemmatizer.lemmatize(token) for token in tokens]\n",
        "\n",
        "    # Remove extra spaces\n",
        "    text = re.sub(r'\\s+', ' ', \" \".join(tokens)).strip()\n",
        "\n",
        "    return text\n"
      ]
    },
    {
      "cell_type": "code",
      "execution_count": null,
      "metadata": {
        "id": "8P39R7EnM351"
      },
      "outputs": [],
      "source": [
        "# perform text cleaning\n",
        "df['clean_text']= df['text'].apply(preprocessor)\n"
      ]
    },
    {
      "cell_type": "code",
      "execution_count": null,
      "metadata": {
        "id": "rAggepWbNyJI"
      },
      "outputs": [],
      "source": [
        "# save cleaned text and labels to a variable\n",
        "text   = df['clean_text'].values\n",
        "labels = df['sentiment'].values"
      ]
    },
    {
      "cell_type": "code",
      "execution_count": null,
      "metadata": {
        "colab": {
          "base_uri": "https://localhost:8080/",
          "height": 472
        },
        "id": "XMULejRWQPz5",
        "outputId": "abc2eb72-a873-4c18-d31c-23d5e85815ed"
      },
      "outputs": [
        {
          "output_type": "display_data",
          "data": {
            "text/plain": [
              "<Figure size 640x480 with 1 Axes>"
            ],
            "image/png": "[encoded data removed]"
          },
          "metadata": {}
        }
      ],
      "source": [
        "#Preparing Input Data\n",
        "import matplotlib.pyplot as plt\n",
        "\n",
        "# Compute the number of words in each tweet\n",
        "num = [len(i.split()) for i in text]\n",
        "\n",
        "# Plot the histogram with a limit on the x-axis\n",
        "plt.hist(num, bins=30)\n",
        "\n",
        "plt.title(\"Histogram: Length of sentences\")\n",
        "plt.xlabel(\"Number of Words\")\n",
        "plt.ylabel(\"Frequency\")\n",
        "\n",
        "# Set the x-axis limit to 1000\n",
        "plt.xlim(0, 1000)  # You can adjust this value based on your actual data range\n",
        "\n",
        "plt.show()"
      ]
    },
    {
      "cell_type": "code",
      "execution_count": null,
      "metadata": {
        "id": "6wska7m3TWg8"
      },
      "outputs": [],
      "source": [
        "# Majority of the clean text  are concentrated around 400 words at most.\n",
        "# define maximum length of a text\n",
        "max_len = 300"
      ]
    },
    {
      "cell_type": "code",
      "execution_count": null,
      "metadata": {
        "colab": {
          "base_uri": "https://localhost:8080/",
          "height": 49,
          "referenced_widgets": [
            "71df7a084c6a4c438c02ccd0854c0f53",
            "3548548d8d494297bd1ba729d3e7769b",
            "b401a3e63d1d40c29b3f89297dfa9b0e",
            "315691cab3134145830f41eada8a0a78",
            "dfae2fce887e407eafc97e1685dd541c",
            "c1bb6bd6c22c4df4bbfeedf8dbf27f3f",
            "18a0874dfec14ea090dc1ac7f5380370",
            "99e9dee44f574e31b6942d44fd27d19b",
            "962f96b0369141bd93f33a2fd0eb4527",
            "03da03df17b34177878828645ccffc91",
            "9a2b0ff1afaf4bd097efaf9fece6d62b"
          ]
        },
        "id": "de0ZDhHkEkGv",
        "outputId": "14853c4d-803b-4e0b-b6d2-850a26a94c14"
      },
      "outputs": [
        {
          "output_type": "display_data",
          "data": {
            "text/plain": [
              "  0%|          | 0/5279 [00:00<?, ?it/s]"
            ],
            "application/vnd.jupyter.widget-view+json": {
              "version_major": 2,
              "version_minor": 0,
              "model_id": "71df7a084c6a4c438c02ccd0854c0f53"
            }
          },
          "metadata": {}
        }
      ],
      "source": [
        "# library for progress bar\n",
        "from tqdm import notebook\n",
        "\n",
        "# create an empty list to save integer sequence\n",
        "sent_id = []\n",
        "\n",
        "# iterate over each feedback\n",
        "for i in notebook.tqdm(range(len(text))):\n",
        "\n",
        "  encoded_sent = tokenizer.encode(text[i],\n",
        "                                  add_special_tokens = True,\n",
        "                                  max_length = max_len,\n",
        "                                  truncation = True,\n",
        "                                  padding = 'max_length')\n",
        "\n",
        "  # saving integer sequence to a list\n",
        "  sent_id.append(encoded_sent)"
      ]
    },
    {
      "cell_type": "code",
      "execution_count": null,
      "metadata": {
        "colab": {
          "base_uri": "https://localhost:8080/"
        },
        "id": "2ViDxWxJE-4h",
        "outputId": "7064c93f-ead0-4345-c5f1-d583bf601007"
      },
      "outputs": [
        {
          "output_type": "stream",
          "name": "stdout",
          "text": [
            "Integer Sequence: [101, 8285, 5714, 23041, 2063, 4295, 7166, 2272, 9324, 2004, 13097, 2368, 3148, 2514, 2204, 2228, 2689, 2505, 5949, 2051, 2943, 1045, 2635, 5939, 3736, 23736, 2514, 6429, 25353, 27718, 5358, 26489, 6292, 3609, 4432, 1045, 2144, 2467, 2113, 1045, 2113, 2197, 3204, 2095, 5476, 2787, 5959, 4536, 2391, 15366, 102, 0, 0, 0, 0, 0, 0, 0, 0, 0, 0, 0, 0, 0, 0, 0, 0, 0, 0, 0, 0, 0, 0, 0, 0, 0, 0, 0, 0, 0, 0, 0, 0, 0, 0, 0, 0, 0, 0, 0, 0, 0, 0, 0, 0, 0, 0, 0, 0, 0, 0, 0, 0, 0, 0, 0, 0, 0, 0, 0, 0, 0, 0, 0, 0, 0, 0, 0, 0, 0, 0, 0, 0, 0, 0, 0, 0, 0, 0, 0, 0, 0, 0, 0, 0, 0, 0, 0, 0, 0, 0, 0, 0, 0, 0, 0, 0, 0, 0, 0, 0, 0, 0, 0, 0, 0, 0, 0, 0, 0, 0, 0, 0, 0, 0, 0, 0, 0, 0, 0, 0, 0, 0, 0, 0, 0, 0, 0, 0, 0, 0, 0, 0, 0, 0, 0, 0, 0, 0, 0, 0, 0, 0, 0, 0, 0, 0, 0, 0, 0, 0, 0, 0, 0, 0, 0, 0, 0, 0, 0, 0, 0, 0, 0, 0, 0, 0, 0, 0, 0, 0, 0, 0, 0, 0, 0, 0, 0, 0, 0, 0, 0, 0, 0, 0, 0, 0, 0, 0, 0, 0, 0, 0, 0, 0, 0, 0, 0, 0, 0, 0, 0, 0, 0, 0, 0, 0, 0, 0, 0, 0, 0, 0, 0, 0, 0, 0, 0, 0, 0, 0, 0, 0, 0, 0, 0, 0, 0, 0, 0, 0, 0, 0, 0, 0, 0, 0, 0, 0, 0, 0, 0, 0, 0, 0, 0, 0, 0, 0, 0]\n"
          ]
        }
      ],
      "source": [
        "print(\"Integer Sequence:\",sent_id[0])"
      ]
    },
    {
      "cell_type": "code",
      "execution_count": null,
      "metadata": {
        "id": "p8hIkj-UFB8U"
      },
      "outputs": [],
      "source": [
        "# create attention masks\n",
        "attention_masks = []\n",
        "\n",
        "# for each sentence...\n",
        "for sent in sent_id:\n",
        "  att_mask = [int(token_id > 0) for token_id in sent]\n",
        "\n",
        "  # store the attention mask for this sentence\n",
        "  attention_masks.append(att_mask)"
      ]
    },
    {
      "cell_type": "code",
      "execution_count": null,
      "metadata": {
        "id": "3YWrmwdgFCMa"
      },
      "outputs": [],
      "source": [
        "import numpy as np\n",
        "\n",
        "#Preparing Output\n",
        "labels = np.array(df['sentiment'])\n",
        "\n",
        "\n",
        "from sklearn.model_selection import train_test_split\n",
        "\n",
        "# Split the data into training and validation sets (90% train, 10% validation)\n",
        "train_inputs, validation_inputs, train_labels, validation_labels = train_test_split(\n",
        "    sent_id, labels, random_state=2018, test_size=0.1, stratify=labels)\n",
        "\n",
        "# Split the attention masks in the same way\n",
        "train_masks, validation_masks, _, _ = train_test_split(\n",
        "    attention_masks, labels, random_state=2018, test_size=0.1, stratify=labels)\n"
      ]
    },
    {
      "cell_type": "code",
      "execution_count": null,
      "metadata": {
        "id": "1FyYu1yCFCPb"
      },
      "outputs": [],
      "source": [
        "# Convert all inputs and labels into torch tensors, the required datatype for our model.\n",
        "train_inputs = torch.tensor(train_inputs)\n",
        "validation_inputs = torch.tensor(validation_inputs)\n",
        "\n",
        "train_labels = torch.tensor(train_labels)\n",
        "validation_labels = torch.tensor(validation_labels)\n",
        "\n",
        "train_masks = torch.tensor(train_masks)\n",
        "validation_masks = torch.tensor(validation_masks)"
      ]
    },
    {
      "cell_type": "code",
      "execution_count": null,
      "metadata": {
        "id": "U8aRMfWML4ru"
      },
      "outputs": [],
      "source": [
        "from torch.utils.data import TensorDataset, DataLoader, RandomSampler, SequentialSampler\n",
        "\n",
        "# The DataLoader needs to know our batch size for training, so we specify it here.\n",
        "# For fine-tuning BERT on a specific task, the authors recommend a batch size of 16 or 32.\n",
        "\n",
        "#define a batch size\n",
        "batch_size = 16\n",
        "\n",
        "# Create the DataLoader for our training set.\n",
        "#Dataset wrapping tensors.\n",
        "train_data = TensorDataset(train_inputs, train_masks, train_labels)\n",
        "\n",
        "#define a sampler for sampling the data during training\n",
        "  #random sampler samples randomly from a dataset\n",
        "  #sequential sampler samples sequentially, always in the same order\n",
        "train_sampler = RandomSampler(train_data)\n",
        "\n",
        "#represents a iterator over a dataset. Supports batching, customized data loading order\n",
        "train_dataloader = DataLoader(train_data, sampler=train_sampler, batch_size=batch_size)\n",
        "\n",
        "# Create the DataLoader for our validation set.\n",
        "#Dataset wrapping tensors.\n",
        "validation_data = TensorDataset(validation_inputs, validation_masks, validation_labels)\n",
        "\n",
        "#define a sequential sampler\n",
        "#This samples data in a sequential order\n",
        "validation_sampler = SequentialSampler(validation_data)\n",
        "\n",
        "#create a iterator over the dataset\n",
        "validation_dataloader = DataLoader(validation_data, sampler=validation_sampler, batch_size=batch_size)"
      ]
    },
    {
      "cell_type": "code",
      "execution_count": null,
      "metadata": {
        "id": "4BuFBO9LM5t0"
      },
      "outputs": [],
      "source": [
        "#create an iterator object\n",
        "iterator = iter(train_dataloader)\n",
        "\n",
        "# Load the batch data\n",
        "sent_id, mask, target = next(iterator)"
      ]
    },
    {
      "cell_type": "code",
      "execution_count": null,
      "metadata": {
        "colab": {
          "base_uri": "https://localhost:8080/"
        },
        "id": "t04BkYOYRYjL",
        "outputId": "740d1786-9367-46a2-98cf-cb357b283262"
      },
      "outputs": [
        {
          "output_type": "execute_result",
          "data": {
            "text/plain": [
              "torch.Size([16, 300])"
            ]
          },
          "metadata": {},
          "execution_count": 42
        }
      ],
      "source": [
        "sent_id.shape"
      ]
    },
    {
      "cell_type": "code",
      "execution_count": null,
      "metadata": {
        "colab": {
          "base_uri": "https://localhost:8080/"
        },
        "id": "qN9X3zSJRrK5",
        "outputId": "3795b9cb-23c2-4f72-ac8e-e242f6dfd45e"
      },
      "outputs": [
        {
          "output_type": "execute_result",
          "data": {
            "text/plain": [
              "tensor([[  101, 16697, 13551,  ...,     0,     0,     0],\n",
              "        [  101,  4067,  2017,  ...,     0,     0,     0],\n",
              "        [  101,  3081,  4684,  ...,  2147,  3204,   102],\n",
              "        ...,\n",
              "        [  101,  1045,  2657,  ...,  5796, 20014,   102],\n",
              "        [  101,  7632,  1045,  ...,     0,     0,     0],\n",
              "        [  101,  5254,  1045,  ...,     0,     0,     0]])"
            ]
          },
          "metadata": {},
          "execution_count": 43
        }
      ],
      "source": [
        "sent_id"
      ]
    },
    {
      "cell_type": "code",
      "execution_count": null,
      "metadata": {
        "id": "esi-iVMXRtvq"
      },
      "outputs": [],
      "source": [
        "#pass inputs to the model\n",
        "outputs = bert(sent_id,             #integer sequence\n",
        "               attention_mask=mask) #attention masks"
      ]
    },
    {
      "cell_type": "code",
      "execution_count": null,
      "metadata": {
        "colab": {
          "base_uri": "https://localhost:8080/"
        },
        "id": "dd1glvMsRxrm",
        "outputId": "c94c3222-76a7-4128-9def-239786efb524"
      },
      "outputs": [
        {
          "output_type": "stream",
          "name": "stdout",
          "text": [
            "Shape of Hidden States: torch.Size([16, 300, 768])\n",
            "Shape of CLS Hidden State: torch.Size([16, 768])\n"
          ]
        }
      ],
      "source": [
        "# hidden states\n",
        "hidden_states = outputs[0]\n",
        "\n",
        "# [CLS] hidden state\n",
        "CLS_hidden_state = outputs[1]\n",
        "\n",
        "print(\"Shape of Hidden States:\",hidden_states.shape)\n",
        "print(\"Shape of CLS Hidden State:\",CLS_hidden_state.shape)"
      ]
    },
    {
      "cell_type": "code",
      "execution_count": null,
      "metadata": {
        "id": "hrUzeaI8R0C4"
      },
      "outputs": [],
      "source": [
        "#4. Model Finetuning\n",
        "# turn off the gradient of all the parameters\n",
        "for param in bert.parameters():\n",
        "    param.requires_grad = False"
      ]
    },
    {
      "cell_type": "code",
      "execution_count": null,
      "metadata": {
        "id": "A3XHELHgJmI5"
      },
      "outputs": [],
      "source": [
        "import torch.nn as nn\n",
        "\n",
        "class classifier(nn.Module):\n",
        "\n",
        "    #define the layers and wrappers used by model\n",
        "    def __init__(self, bert):\n",
        "\n",
        "      #constructor\n",
        "      super(classifier, self).__init__()\n",
        "\n",
        "      #bert model\n",
        "      self.bert = bert\n",
        "\n",
        "      # dense layer 1\n",
        "      self.fc1 = nn.Linear(768,512)\n",
        "\n",
        "      #dense layer 2 (Output layer)\n",
        "      self.fc2 = nn.Linear(512,3)\n",
        "\n",
        "      #dropout layer\n",
        "      self.dropout = nn.Dropout(0.2)\n",
        "\n",
        "      #relu activation function\n",
        "      self.relu =  nn.LeakyReLU()\n",
        "\n",
        "      #softmax activation function\n",
        "      self.softmax = nn.LogSoftmax(dim=1)\n",
        "\n",
        "#define the forward pass\n",
        "\n",
        "    def forward(self, sent_id, mask):\n",
        "\n",
        "      #pass the inputs to the model\n",
        "      outputs = self.bert(sent_id, attention_mask=mask)\n",
        "\n",
        "      # Check the type and content of outputs to understand its structure\n",
        "      print(type(outputs))\n",
        "      print(outputs)\n",
        "\n",
        "      # Access the hidden states based on the structure of outputs\n",
        "      # For example, if outputs is a tuple and the hidden states are the first element:\n",
        "      all_hidden_states = outputs.last_hidden_state\n",
        "\n",
        "      # Extract the first token's hidden state (CLS token)\n",
        "      cls_hidden_state= all_hidden_states[:, 0]\n",
        "\n",
        "     #pass CLS hidden state to dense layer\n",
        "      x = self.fc1(cls_hidden_state)\n",
        "\n",
        "      #Apply ReLU activation function\n",
        "      x = self.relu(x)\n",
        "\n",
        "      #Apply Dropout\n",
        "      x = self.dropout(x)\n",
        "\n",
        "      #pass input to the output layer\n",
        "      x = self.fc2(x)\n",
        "\n",
        "      #apply softmax activation\n",
        "      x = self.softmax(x)\n",
        "\n",
        "      return x\n"
      ]
    },
    {
      "cell_type": "code",
      "execution_count": null,
      "metadata": {
        "id": "WqascKj7SUOy"
      },
      "outputs": [],
      "source": [
        "#create the model\n",
        "model = classifier(bert)\n",
        "\n",
        "#push the model to GPU, if available\n",
        "model = model.to(device)"
      ]
    },
    {
      "cell_type": "code",
      "execution_count": null,
      "metadata": {
        "colab": {
          "base_uri": "https://localhost:8080/"
        },
        "collapsed": true,
        "id": "Tvj5xdtZSUVt",
        "outputId": "fc59302c-065e-4b68-b29e-345126944a74"
      },
      "outputs": [
        {
          "output_type": "execute_result",
          "data": {
            "text/plain": [
              "classifier(\n",
              "  (bert): BertModel(\n",
              "    (embeddings): BertEmbeddings(\n",
              "      (word_embeddings): Embedding(30522, 768, padding_idx=0)\n",
              "      (position_embeddings): Embedding(512, 768)\n",
              "      (token_type_embeddings): Embedding(2, 768)\n",
              "      (LayerNorm): LayerNorm((768,), eps=1e-12, elementwise_affine=True)\n",
              "      (dropout): Dropout(p=0.1, inplace=False)\n",
              "    )\n",
              "    (encoder): BertEncoder(\n",
              "      (layer): ModuleList(\n",
              "        (0-11): 12 x BertLayer(\n",
              "          (attention): BertAttention(\n",
              "            (self): BertSdpaSelfAttention(\n",
              "              (query): Linear(in_features=768, out_features=768, bias=True)\n",
              "              (key): Linear(in_features=768, out_features=768, bias=True)\n",
              "              (value): Linear(in_features=768, out_features=768, bias=True)\n",
              "              (dropout): Dropout(p=0.1, inplace=False)\n",
              "            )\n",
              "            (output): BertSelfOutput(\n",
              "              (dense): Linear(in_features=768, out_features=768, bias=True)\n",
              "              (LayerNorm): LayerNorm((768,), eps=1e-12, elementwise_affine=True)\n",
              "              (dropout): Dropout(p=0.1, inplace=False)\n",
              "            )\n",
              "          )\n",
              "          (intermediate): BertIntermediate(\n",
              "            (dense): Linear(in_features=768, out_features=3072, bias=True)\n",
              "            (intermediate_act_fn): GELUActivation()\n",
              "          )\n",
              "          (output): BertOutput(\n",
              "            (dense): Linear(in_features=3072, out_features=768, bias=True)\n",
              "            (LayerNorm): LayerNorm((768,), eps=1e-12, elementwise_affine=True)\n",
              "            (dropout): Dropout(p=0.1, inplace=False)\n",
              "          )\n",
              "        )\n",
              "      )\n",
              "    )\n",
              "    (pooler): BertPooler(\n",
              "      (dense): Linear(in_features=768, out_features=768, bias=True)\n",
              "      (activation): Tanh()\n",
              "    )\n",
              "  )\n",
              "  (fc1): Linear(in_features=768, out_features=512, bias=True)\n",
              "  (fc2): Linear(in_features=512, out_features=3, bias=True)\n",
              "  (dropout): Dropout(p=0.2, inplace=False)\n",
              "  (relu): LeakyReLU(negative_slope=0.01)\n",
              "  (softmax): LogSoftmax(dim=1)\n",
              ")"
            ]
          },
          "metadata": {},
          "execution_count": 49
        }
      ],
      "source": [
        "#model architecture\n",
        "model"
      ]
    },
    {
      "cell_type": "code",
      "execution_count": null,
      "metadata": {
        "colab": {
          "base_uri": "https://localhost:8080/"
        },
        "collapsed": true,
        "id": "G9S-cyuvSUZJ",
        "outputId": "26f09a0c-517d-494d-afca-1b21108a6f66"
      },
      "outputs": [
        {
          "output_type": "stream",
          "name": "stdout",
          "text": [
            "<class 'transformers.modeling_outputs.BaseModelOutputWithPoolingAndCrossAttentions'>\n",
            "BaseModelOutputWithPoolingAndCrossAttentions(last_hidden_state=tensor([[[-2.2391e-01,  2.1971e-01,  6.5904e-02,  ..., -1.5012e-01,\n",
            "           9.6783e-02,  1.2138e-01],\n",
            "         [-1.4222e-01,  3.1666e-01, -2.2605e-02,  ..., -2.1713e-01,\n",
            "          -1.6049e-01,  9.8657e-03],\n",
            "         [ 8.6462e-03,  1.3960e-01,  2.2869e-01,  ..., -3.7254e-01,\n",
            "           2.6435e-01, -2.6977e-01],\n",
            "         ...,\n",
            "         [-3.3565e-01, -5.0305e-01,  6.0329e-01,  ...,  7.4293e-02,\n",
            "          -6.7794e-02,  1.9734e-01],\n",
            "         [-9.9674e-02, -9.4391e-02,  2.0794e-01,  ..., -1.2860e-01,\n",
            "           2.3371e-01,  1.7619e-01],\n",
            "         [ 6.4535e-02, -4.8112e-03,  3.6211e-01,  ...,  7.0497e-02,\n",
            "           1.0885e-01,  1.2460e-01]],\n",
            "\n",
            "        [[-2.2973e-01,  3.0387e-01,  3.9412e-01,  ..., -3.5555e-01,\n",
            "           5.0527e-02,  1.2463e-01],\n",
            "         [ 4.1392e-01,  5.3275e-01,  1.1848e+00,  ..., -1.4039e-01,\n",
            "           1.3748e-01,  3.5266e-01],\n",
            "         [-2.8931e-01, -2.1315e-01,  1.5658e+00,  ...,  1.4525e-01,\n",
            "           3.0162e-01, -5.0616e-01],\n",
            "         ...,\n",
            "         [ 3.2405e-01, -6.5882e-01,  4.9599e-01,  ..., -4.6042e-01,\n",
            "           3.4840e-01, -1.8840e-01],\n",
            "         [-2.5699e-02,  1.0618e-01,  2.3405e-01,  ..., -3.4266e-01,\n",
            "           1.0331e-01,  2.0938e-01],\n",
            "         [ 1.3509e-01,  1.8497e-01,  6.5568e-01,  ..., -5.6198e-01,\n",
            "           3.5086e-01,  1.7955e-01]],\n",
            "\n",
            "        [[-1.1447e-01, -5.9164e-02,  2.1497e-01,  ..., -4.2954e-01,\n",
            "           2.8745e-03, -1.3737e-01],\n",
            "         [ 6.4798e-01,  3.6494e-01,  1.2703e+00,  ..., -2.8667e-01,\n",
            "           6.5066e-01,  6.3865e-01],\n",
            "         [ 9.9707e-02,  1.0234e-01,  1.4714e+00,  ..., -5.5233e-01,\n",
            "          -3.1617e-01, -6.5109e-02],\n",
            "         ...,\n",
            "         [ 6.6624e-02,  3.4124e-01,  6.4611e-01,  ..., -1.6997e-01,\n",
            "           3.4278e-01, -8.0464e-01],\n",
            "         [-9.0614e-01, -6.2251e-01,  6.5178e-01,  ...,  3.2504e-01,\n",
            "          -8.3053e-02, -8.1358e-01],\n",
            "         [ 2.9179e-01,  1.4286e-01,  4.4230e-02,  ..., -1.2727e-01,\n",
            "          -1.6411e-01,  1.5044e-03]],\n",
            "\n",
            "        ...,\n",
            "\n",
            "        [[-2.6274e-01, -4.5809e-01,  2.6044e-01,  ..., -2.4239e-01,\n",
            "           6.3349e-02,  2.6376e-01],\n",
            "         [ 3.2428e-01, -3.8956e-01,  4.5584e-01,  ..., -1.1837e-01,\n",
            "           1.4356e+00, -3.2762e-01],\n",
            "         [-6.0141e-01, -2.4113e-01,  1.2590e+00,  ..., -3.5722e-01,\n",
            "          -2.1749e-01, -3.6774e-01],\n",
            "         ...,\n",
            "         [-6.7331e-01,  1.4695e-01,  8.4895e-01,  ..., -2.9276e-02,\n",
            "          -5.3115e-01,  3.8032e-01],\n",
            "         [-7.7957e-01, -1.1544e+00, -1.7357e-01,  ...,  6.9100e-02,\n",
            "          -3.0272e-01, -5.9869e-01],\n",
            "         [ 5.4078e-01,  1.1656e-01,  2.2785e-01,  ...,  3.9375e-02,\n",
            "          -1.6982e-01, -1.7099e-01]],\n",
            "\n",
            "        [[ 2.3628e-02, -7.4275e-02,  5.2555e-01,  ..., -4.3501e-01,\n",
            "           2.3764e-01,  2.4968e-01],\n",
            "         [ 3.2861e-01, -2.9049e-01,  1.3053e+00,  ..., -3.1015e-01,\n",
            "           8.7916e-02, -6.1320e-01],\n",
            "         [-6.5264e-02, -5.6087e-01,  6.6830e-01,  ..., -2.3803e-01,\n",
            "           3.8198e-01,  2.1471e-01],\n",
            "         ...,\n",
            "         [ 1.0178e-01, -1.4316e-01,  4.1252e-01,  ..., -8.8198e-02,\n",
            "           1.1093e-02,  3.1223e-02],\n",
            "         [ 2.2182e-01, -1.4983e-01,  3.6558e-01,  ..., -1.6514e-01,\n",
            "          -6.1754e-02,  1.7373e-01],\n",
            "         [-2.4709e-01, -4.1842e-01, -6.1281e-02,  ..., -3.3752e-01,\n",
            "          -2.4293e-01, -1.0105e-02]],\n",
            "\n",
            "        [[-2.5697e-01,  3.5329e-01,  4.8139e-01,  ..., -4.3071e-01,\n",
            "           3.3572e-01,  1.2862e-01],\n",
            "         [ 1.0458e+00,  4.9262e-01,  8.6180e-01,  ...,  8.4476e-02,\n",
            "           4.6321e-01, -3.7395e-01],\n",
            "         [-1.8162e-01,  2.3864e-01,  8.1714e-01,  ..., -8.3285e-01,\n",
            "           6.6967e-01,  2.9754e-01],\n",
            "         ...,\n",
            "         [-1.3807e-01,  3.3029e-02,  6.5520e-02,  ..., -2.8278e-01,\n",
            "          -1.2559e-02, -9.5960e-02],\n",
            "         [-2.3732e-01, -5.7732e-01,  9.3384e-01,  ..., -2.9667e-01,\n",
            "          -1.7237e-01,  2.9914e-01],\n",
            "         [-5.5841e-01, -1.3858e-01,  4.3835e-01,  ..., -2.7621e-01,\n",
            "           3.2047e-01, -2.8787e-02]]], device='cuda:0'), pooler_output=tensor([[-0.7523, -0.2072,  0.4298,  ...,  0.3523, -0.5644,  0.8515],\n",
            "        [-0.6742, -0.3231, -0.1043,  ..., -0.0189, -0.5371,  0.6834],\n",
            "        [-0.6219, -0.4189, -0.7213,  ..., -0.6020, -0.4911,  0.6655],\n",
            "        ...,\n",
            "        [-0.3407, -0.1956, -0.5644,  ..., -0.6548, -0.3219,  0.4998],\n",
            "        [-0.5836, -0.2402, -0.7530,  ..., -0.7678, -0.4320,  0.8074],\n",
            "        [-0.7916, -0.4777, -0.9223,  ..., -0.8522, -0.5417,  0.8445]],\n",
            "       device='cuda:0'), hidden_states=None, past_key_values=None, attentions=None, cross_attentions=None)\n"
          ]
        }
      ],
      "source": [
        "# push the tensors to GPU\n",
        "sent_id = sent_id.to(device)\n",
        "mask = mask.to(device)\n",
        "target = target.to(device)\n",
        "\n",
        "# pass inputs to the model\n",
        "outputs = model(sent_id, mask)"
      ]
    },
    {
      "cell_type": "code",
      "execution_count": null,
      "metadata": {
        "colab": {
          "base_uri": "https://localhost:8080/"
        },
        "collapsed": true,
        "id": "y4qy6zMxSUdR",
        "outputId": "649ae718-fd89-4d91-9d61-ce70af58699a"
      },
      "outputs": [
        {
          "output_type": "stream",
          "name": "stdout",
          "text": [
            "tensor([[-1.1262, -1.1553, -1.0195],\n",
            "        [-1.3713, -0.9481, -1.0252],\n",
            "        [-1.2439, -1.0604, -1.0067],\n",
            "        [-1.2744, -1.0041, -1.0384],\n",
            "        [-1.3092, -1.0532, -0.9646],\n",
            "        [-1.2578, -1.1593, -0.9113],\n",
            "        [-1.4535, -1.0280, -0.8952],\n",
            "        [-1.3746, -0.9759, -0.9937],\n",
            "        [-1.2696, -1.1008, -0.9508],\n",
            "        [-1.1823, -1.1310, -0.9923],\n",
            "        [-1.3763, -1.0299, -0.9405],\n",
            "        [-1.1990, -1.1463, -0.9658],\n",
            "        [-1.2960, -1.0313, -0.9947],\n",
            "        [-1.3382, -1.0543, -0.9435],\n",
            "        [-1.2784, -1.1132, -0.9339],\n",
            "        [-1.3531, -1.0433, -0.9435]], device='cuda:0',\n",
            "       grad_fn=<LogSoftmaxBackward0>)\n"
          ]
        }
      ],
      "source": [
        "# understand outputs\n",
        "print(outputs)"
      ]
    },
    {
      "cell_type": "code",
      "execution_count": null,
      "metadata": {
        "colab": {
          "base_uri": "https://localhost:8080/"
        },
        "id": "tGLOQD6gSUgv",
        "outputId": "462d6baa-130c-4781-9fcd-62b6eb335f1e"
      },
      "outputs": [
        {
          "output_type": "stream",
          "name": "stdout",
          "text": [
            "The model has 395,267 trainable parameters\n"
          ]
        }
      ],
      "source": [
        "# no. of trianable parameters\n",
        "def count_parameters(model):\n",
        "    return sum(p.numel() for p in model.parameters() if p.requires_grad)\n",
        "\n",
        "print(f'The model has {count_parameters(model):,} trainable parameters')"
      ]
    },
    {
      "cell_type": "code",
      "execution_count": null,
      "metadata": {
        "id": "AxLgSFesSUjl"
      },
      "outputs": [],
      "source": [
        "#Define Optimizer and Loss function\n",
        "## Import AdamW optimizer\n",
        "from torch.optim import AdamW\n",
        "\n",
        "# Create the AdamW optimizer\n",
        "optimizer = AdamW(model.parameters(), lr=3e-5,weight_decay=0.03)\n"
      ]
    },
    {
      "cell_type": "code",
      "execution_count": null,
      "metadata": {
        "colab": {
          "base_uri": "https://localhost:8080/",
          "height": 486
        },
        "id": "vKjcPr1hSUmd",
        "outputId": "118b8b0a-88e8-4e18-8baa-a544f10cc39f"
      },
      "outputs": [
        {
          "output_type": "execute_result",
          "data": {
            "text/plain": [
              "Text(0.5, 1.0, 'Class Distribution')"
            ]
          },
          "metadata": {},
          "execution_count": 85
        },
        {
          "output_type": "display_data",
          "data": {
            "text/plain": [
              "<Figure size 500x500 with 1 Axes>"
            ],
            "image/png": "[encoded data removed]"
          },
          "metadata": {}
        }
      ],
      "source": [
        "# understand the class distribution\n",
        "keys=['0','1','2']\n",
        "\n",
        "# set figure size\n",
        "plt.figure(figsize=(5,5))\n",
        "\n",
        "# plot bat chart\n",
        "plt.bar(keys,class_counts)\n",
        "\n",
        "# set title\n",
        "plt.title('Class Distribution')"
      ]
    },
    {
      "cell_type": "code",
      "execution_count": null,
      "metadata": {
        "colab": {
          "base_uri": "https://localhost:8080/"
        },
        "id": "GxO9-n7cSUpH",
        "outputId": "eb7301ed-dc0b-4ac5-afb1-67f78da7a3f6"
      },
      "outputs": [
        {
          "output_type": "stream",
          "name": "stdout",
          "text": [
            "Class Weights: [2.85197191 2.10234966 0.46004357]\n"
          ]
        }
      ],
      "source": [
        "#library for array processing\n",
        "import numpy as np\n",
        "\n",
        "#library for computing class weights\n",
        "from sklearn.utils.class_weight import compute_class_weight\n",
        "\n",
        "# Update to use the new API\n",
        "class_weights = compute_class_weight(class_weight='balanced', classes=np.unique(labels), y=labels)\n",
        "\n",
        "\n",
        "print(\"Class Weights:\",class_weights)"
      ]
    },
    {
      "cell_type": "code",
      "execution_count": null,
      "metadata": {
        "id": "0qwZPjL6Hke3"
      },
      "outputs": [],
      "source": [
        "# converting a list of class weights to a tensor\n",
        "weights= torch.tensor(class_weights,dtype=torch.float)\n",
        "\n",
        "# transfer to GPU\n",
        "weights = weights.to(device)\n",
        "\n",
        "# define the loss function\n",
        "cross_entropy  = nn.NLLLoss(weight=weights)"
      ]
    },
    {
      "cell_type": "code",
      "execution_count": null,
      "metadata": {
        "colab": {
          "base_uri": "https://localhost:8080/"
        },
        "id": "iQpM92S3HkiH",
        "outputId": "cb4bb555-228b-4965-ea12-ad94db5ee7ff"
      },
      "outputs": [
        {
          "output_type": "stream",
          "name": "stdout",
          "text": [
            "Loss: tensor(1.0691, device='cuda:0', grad_fn=<NllLossBackward0>)\n"
          ]
        }
      ],
      "source": [
        "#compute the loss\n",
        "loss = cross_entropy(outputs, target)\n",
        "print(\"Loss:\",loss)"
      ]
    },
    {
      "cell_type": "code",
      "execution_count": null,
      "metadata": {
        "id": "HT4-8PvtHkk5"
      },
      "outputs": [],
      "source": [
        "import time\n",
        "import datetime\n",
        "\n",
        "# compute time in hh:mm:ss\n",
        "def format_time(elapsed):\n",
        "    # round to the nearest second.\n",
        "    elapsed_rounded = int(round((elapsed)))\n",
        "\n",
        "    # format as hh:mm:ss\n",
        "    return str(datetime.timedelta(seconds = elapsed_rounded))"
      ]
    },
    {
      "cell_type": "code",
      "execution_count": null,
      "metadata": {
        "id": "C7ta01lhIP9E"
      },
      "outputs": [],
      "source": [
        "#define a function for training the model\n",
        "def train():\n",
        "\n",
        "  print(\"\\nTraining.....\")\n",
        "\n",
        "  #set the model on training phase - Dropout layers are activated\n",
        "  model.train()\n",
        "\n",
        "  #record the current time\n",
        "  t0 = time.time()\n",
        "\n",
        "  #initialize loss and accuracy to 0\n",
        "  total_loss, total_accuracy = 0, 0\n",
        "\n",
        "  #Create a empty list to save the model predictions\n",
        "  total_preds=[]\n",
        "\n",
        "  #for every batch\n",
        "  for step,batch in enumerate(train_dataloader):\n",
        "\n",
        "    # Progress update after every 40 batches.\n",
        "    if step % 40 == 0 and not step == 0:\n",
        "\n",
        "      # Calculate elapsed time in minutes.\n",
        "      elapsed = format_time(time.time() - t0)\n",
        "\n",
        "      # Report progress.\n",
        "      print('  Batch {:>5,}  of  {:>5,}.    Elapsed: {:}.'.format(step, len(train_dataloader), elapsed))\n",
        "\n",
        "    #push the batch to gpu\n",
        "    batch = tuple(t.to(device) for t in batch)\n",
        "\n",
        "    #unpack the batch into separate variables\n",
        "    # `batch` contains three pytorch tensors:\n",
        "    #   [0]: input ids\n",
        "    #   [1]: attention masks\n",
        "    #   [2]: labels\n",
        "    sent_id, mask, labels = batch\n",
        "\n",
        "    # Always clear any previously calculated gradients before performing a\n",
        "    # backward pass. PyTorch doesn't do this automatically.\n",
        "    model.zero_grad()\n",
        "\n",
        "    # Perform a forward pass. This returns the model predictions\n",
        "    preds = model(sent_id, mask)\n",
        "\n",
        "    #compute the loss between actual and predicted values\n",
        "    loss =  cross_entropy(preds, labels)\n",
        "\n",
        "    # Accumulate the training loss over all of the batches so that we can\n",
        "    # calculate the average loss at the end. `loss` is a Tensor containing a\n",
        "    # single value; the `.item()` function just returns the Python value\n",
        "    # from the tensor.\n",
        "    total_loss = total_loss + loss.item()\n",
        "\n",
        "    # Perform a backward pass to calculate the gradients.\n",
        "    loss.backward()\n",
        "\n",
        "    # Update parameters and take a step using the computed gradient.\n",
        "    # The optimizer dictates the \"update rule\"--how the parameters are\n",
        "    # modified based on their gradients, the learning rate, etc.\n",
        "    optimizer.step()\n",
        "\n",
        "    #The model predictions are stored on GPU. So, push it to CPU\n",
        "    preds=preds.detach().cpu().numpy()\n",
        "\n",
        "    #Accumulate the model predictions of each batch\n",
        "    total_preds.append(preds)\n",
        "\n",
        "  #compute the training loss of a epoch\n",
        "  avg_loss     = total_loss / len(train_dataloader)\n",
        "\n",
        "  #The predictions are in the form of (no. of batches, size of batch, no. of classes).\n",
        "  #So, reshaping the predictions in form of (number of samples, no. of classes)\n",
        "  total_preds  = np.concatenate(total_preds, axis=0)\n",
        "\n",
        "  #returns the loss and predictions\n",
        "  return avg_loss, total_preds"
      ]
    },
    {
      "cell_type": "code",
      "execution_count": null,
      "metadata": {
        "id": "cpTmJ7BWOAgA"
      },
      "outputs": [],
      "source": [
        "#define a function for evaluating the model\n",
        "def evaluate():\n",
        "\n",
        "  print(\"\\nEvaluating.....\")\n",
        "\n",
        "  #set the model on training phase - Dropout layers are deactivated\n",
        "  model.eval()\n",
        "\n",
        "  #record the current time\n",
        "  t0 = time.time()\n",
        "\n",
        "  #initialize the loss and accuracy to 0\n",
        "  total_loss, total_accuracy = 0, 0\n",
        "\n",
        "  #Create a empty list to save the model predictions\n",
        "  total_preds = []\n",
        "\n",
        "  #for each batch\n",
        "  for step,batch in enumerate(validation_dataloader):\n",
        "\n",
        "    # Progress update every 40 batches.\n",
        "    if step % 40 == 0 and not step == 0:\n",
        "\n",
        "      # Calculate elapsed time in minutes.\n",
        "      elapsed = format_time(time.time() - t0)\n",
        "\n",
        "      # Report progress.\n",
        "      print('  Batch {:>5,}  of  {:>5,}.    Elapsed: {:}.'.format(step, len(validation_dataloader), elapsed))\n",
        "\n",
        "    #push the batch to gpu\n",
        "    batch = tuple(t.to(device) for t in batch)\n",
        "\n",
        "    #unpack the batch into separate variables\n",
        "    # `batch` contains three pytorch tensors:\n",
        "    #   [0]: input ids\n",
        "    #   [1]: attention masks\n",
        "    #   [2]: labels\n",
        "    sent_id, mask, labels = batch\n",
        "\n",
        "    #deactivates autograd\n",
        "    with torch.no_grad():\n",
        "\n",
        "      # Perform a forward pass. This returns the model predictions\n",
        "      preds = model(sent_id, mask)\n",
        "\n",
        "      # Check if preds is a tuple and extract the correct element\n",
        "      if isinstance(preds, tuple):\n",
        "        preds = preds[0]\n",
        "\n",
        "      #compute the validation loss between actual and predicted values\n",
        "      loss = cross_entropy(preds,labels)\n",
        "\n",
        "      # Accumulate the validation loss over all of the batches so that we can\n",
        "      # calculate the average loss at the end. `loss` is a Tensor containing a\n",
        "      # single value; the `.item()` function just returns the Python value\n",
        "      # from the tensor.\n",
        "      total_loss = total_loss + loss.item()\n",
        "\n",
        "      #The model predictions are stored on GPU. So, push it to CPU\n",
        "      preds=preds.detach().cpu().numpy()\n",
        "\n",
        "      #Accumulate the model predictions of each batch\n",
        "      total_preds.append(preds)\n",
        "\n",
        "  #compute the validation loss of a epoch\n",
        "  avg_loss = total_loss / len(validation_dataloader)\n",
        "\n",
        "  #The predictions are in the form of (no. of batches, size of batch, no. of classes).\n",
        "  #So, reshaping the predictions in form of (number of samples, no. of classes)\n",
        "  total_preds  = np.concatenate(total_preds, axis=0)\n",
        "\n",
        "  return avg_loss, total_preds"
      ]
    },
    {
      "cell_type": "code",
      "execution_count": null,
      "metadata": {
        "colab": {
          "base_uri": "https://localhost:8080/"
        },
        "collapsed": true,
        "id": "GcQsR6RIOMWk",
        "outputId": "e6176a0c-a861-4d22-b43f-290d7ffa3abd"
      },
      "outputs": [
        {
          "output_type": "stream",
          "name": "stdout",
          "text": [
            "\n",
            "....... epoch 1 / 3 .......\n",
            "\n",
            "Training.....\n",
            "  Batch    40  of    297.    Elapsed: 0:00:30.\n",
            "  Batch    80  of    297.    Elapsed: 0:01:00.\n",
            "  Batch   120  of    297.    Elapsed: 0:01:30.\n",
            "  Batch   160  of    297.    Elapsed: 0:02:01.\n",
            "  Batch   200  of    297.    Elapsed: 0:02:32.\n",
            "  Batch   240  of    297.    Elapsed: 0:03:04.\n",
            "  Batch   280  of    297.    Elapsed: 0:03:36.\n",
            "\n",
            "Evaluating.....\n",
            "\n",
            "Training Loss: 0.826\n",
            "Validation Loss: 1.039\n",
            "\n",
            "....... epoch 2 / 3 .......\n",
            "\n",
            "Training.....\n",
            "  Batch    40  of    297.    Elapsed: 0:00:31.\n",
            "  Batch    80  of    297.    Elapsed: 0:01:03.\n",
            "  Batch   120  of    297.    Elapsed: 0:01:35.\n",
            "  Batch   160  of    297.    Elapsed: 0:02:07.\n",
            "  Batch   200  of    297.    Elapsed: 0:02:38.\n",
            "  Batch   240  of    297.    Elapsed: 0:03:10.\n",
            "  Batch   280  of    297.    Elapsed: 0:03:42.\n",
            "\n",
            "Evaluating.....\n",
            "\n",
            "Training Loss: 0.647\n",
            "Validation Loss: 1.069\n",
            "\n",
            "....... epoch 3 / 3 .......\n",
            "\n",
            "Training.....\n",
            "  Batch    40  of    297.    Elapsed: 0:00:32.\n",
            "  Batch    80  of    297.    Elapsed: 0:01:03.\n",
            "  Batch   120  of    297.    Elapsed: 0:01:35.\n",
            "  Batch   160  of    297.    Elapsed: 0:02:07.\n",
            "  Batch   200  of    297.    Elapsed: 0:02:39.\n",
            "  Batch   240  of    297.    Elapsed: 0:03:10.\n",
            "  Batch   280  of    297.    Elapsed: 0:03:42.\n",
            "\n",
            "Evaluating.....\n",
            "\n",
            "Training Loss: 0.413\n",
            "Validation Loss: 1.418\n",
            "\n",
            "Training complete!\n"
          ]
        }
      ],
      "source": [
        "\n",
        "#Train the Model\n",
        "\n",
        "#Assign the initial loss to infinite\n",
        "best_valid_loss = float('inf')\n",
        "\n",
        "#create a empty list to store training and validation loss of each epoch\n",
        "train_losses=[]\n",
        "valid_losses=[]\n",
        "\n",
        "epochs = 3\n",
        "\n",
        "#for each epoch\n",
        "for epoch in range(epochs):\n",
        "\n",
        "    print('\\n....... epoch {:} / {:} .......'.format(epoch + 1, epochs))\n",
        "\n",
        "    #train model\n",
        "    train_loss, _ = train()\n",
        "\n",
        "    #evaluate model\n",
        "    valid_loss, _ = evaluate()\n",
        "\n",
        "    #save the best model\n",
        "    if valid_loss < best_valid_loss:\n",
        "        best_valid_loss = valid_loss\n",
        "        torch.save(model.state_dict(), 'saved_weights.pt')\n",
        "\n",
        "    #accumulate training and validation loss\n",
        "    train_losses.append(train_loss)\n",
        "    valid_losses.append(valid_loss)\n",
        "\n",
        "    print(f'\\nTraining Loss: {train_loss:.3f}')\n",
        "    print(f'Validation Loss: {valid_loss:.3f}')\n",
        "\n",
        "print(\"\")\n",
        "print(\"Training complete!\")"
      ]
    },
    {
      "cell_type": "code",
      "execution_count": null,
      "metadata": {
        "colab": {
          "base_uri": "https://localhost:8080/"
        },
        "id": "jv4H0XymOWUt",
        "outputId": "13a1d4b7-5394-427d-f134-17cb2f6bd6bf"
      },
      "outputs": [
        {
          "output_type": "stream",
          "name": "stderr",
          "text": [
            "<ipython-input-93-d5e1bb6310d2>:3: FutureWarning: You are using `torch.load` with `weights_only=False` (the current default value), which uses the default pickle module implicitly. It is possible to construct malicious pickle data which will execute arbitrary code during unpickling (See https://github.com/pytorch/pytorch/blob/main/SECURITY.md#untrusted-models for more details). In a future release, the default value for `weights_only` will be flipped to `True`. This limits the functions that could be executed during unpickling. Arbitrary objects will no longer be allowed to be loaded via this mode unless they are explicitly allowlisted by the user via `torch.serialization.add_safe_globals`. We recommend you start setting `weights_only=True` for any use case where you don't have full control of the loaded file. Please open an issue on GitHub for any issues related to this experimental feature.\n",
            "  model.load_state_dict(torch.load(path))\n"
          ]
        },
        {
          "output_type": "execute_result",
          "data": {
            "text/plain": [
              "<All keys matched successfully>"
            ]
          },
          "metadata": {},
          "execution_count": 93
        }
      ],
      "source": [
        "#load weights of the best model\n",
        "path = 'saved_weights.pt'\n",
        "model.load_state_dict(torch.load(path))"
      ]
    },
    {
      "cell_type": "code",
      "execution_count": null,
      "metadata": {
        "colab": {
          "base_uri": "https://localhost:8080/"
        },
        "collapsed": true,
        "id": "8EO2K9fJHkyc",
        "outputId": "48054d12-9673-4895-bc5f-c4b24f52ce0a"
      },
      "outputs": [
        {
          "output_type": "stream",
          "name": "stdout",
          "text": [
            "\n",
            "Evaluating.....\n",
            "1.039048896594481\n"
          ]
        }
      ],
      "source": [
        "# get the model predictions on the validation data\n",
        "# returns 2 elements- Validation loss and Predictions\n",
        "valid_loss, preds = evaluate()\n",
        "print(valid_loss)"
      ]
    },
    {
      "cell_type": "code",
      "execution_count": null,
      "metadata": {
        "id": "gUa15KNVHk4P"
      },
      "outputs": [],
      "source": [
        "# Converting the log(probabities) into a classes\n",
        "# Choosing index of a maximum value as class\n",
        "y_pred = np.argmax(preds,axis=1)\n",
        "# actual labels\n",
        "y_true = validation_labels"
      ]
    },
    {
      "cell_type": "code",
      "execution_count": null,
      "metadata": {
        "colab": {
          "base_uri": "https://localhost:8080/"
        },
        "id": "1GmCa3kFHk6x",
        "outputId": "8969104b-50c8-43e1-9bdf-aa7b3db8eae8"
      },
      "outputs": [
        {
          "output_type": "stream",
          "name": "stdout",
          "text": [
            "              precision    recall  f1-score   support\n",
            "\n",
            "           0       0.24      0.52      0.33        62\n",
            "           1       0.37      0.30      0.33        84\n",
            "           2       0.79      0.68      0.73       382\n",
            "\n",
            "    accuracy                           0.60       528\n",
            "   macro avg       0.47      0.50      0.47       528\n",
            "weighted avg       0.66      0.60      0.62       528\n",
            "\n"
          ]
        }
      ],
      "source": [
        "from sklearn.metrics import classification_report\n",
        "print(classification_report(y_true,y_pred))"
      ]
    },
    {
      "cell_type": "code",
      "execution_count": null,
      "metadata": {
        "colab": {
          "base_uri": "https://localhost:8080/"
        },
        "id": "4tsnn2XJTf8i",
        "outputId": "eafe1eea-35a5-4719-d864-14079a2000f2"
      },
      "outputs": [
        {
          "output_type": "stream",
          "name": "stdout",
          "text": [
            "Macro F1-Score: 0.465\n"
          ]
        }
      ],
      "source": [
        "from sklearn.metrics import f1_score\n",
        "\n",
        "macro_f1 = f1_score(y_true, y_pred, average='macro').round(3)\n",
        "print(f\"Macro F1-Score: {macro_f1}\")"
      ]
    },
    {
      "cell_type": "code",
      "source": [
        "import torch\n",
        "import torch.nn as nn\n",
        "from transformers import BertModel, BertTokenizer, BertConfig\n",
        "\n",
        "class Classifier(nn.Module):\n",
        "    def __init__(self, bert_model):\n",
        "        super(Classifier, self).__init__()\n",
        "        self.bert = bert_model\n",
        "        self.fc1 = nn.Linear(768, 512)\n",
        "        self.fc2 = nn.Linear(512, 3)  # Adjust the output size based on your number of classes\n",
        "        self.dropout = nn.Dropout(0.2)\n",
        "        self.relu = nn.LeakyReLU()\n",
        "        self.softmax = nn.LogSoftmax(dim=1)\n",
        "\n",
        "    def forward(self, sent_id, mask):\n",
        "        outputs = self.bert(sent_id, attention_mask=mask)\n",
        "        all_hidden_states = outputs.last_hidden_state\n",
        "        cls_hidden_state = all_hidden_states[:, 0]\n",
        "        x = self.fc1(cls_hidden_state)\n",
        "        x = self.relu(x)\n",
        "        x = self.dropout(x)\n",
        "        x = self.fc2(x)\n",
        "        x = self.softmax(x)\n",
        "        return x\n",
        "\n",
        "# Initialize BERT model and tokenizer\n",
        "bert_model = BertModel.from_pretrained('bert-base-uncased')\n",
        "tokenizer = BertTokenizer.from_pretrained('bert-base-uncased')\n",
        "\n",
        "# Initialize the classifier with the BERT model\n",
        "model = Classifier(bert_model)\n",
        "device = torch.device('cuda' if torch.cuda.is_available() else 'cpu')\n",
        "model = model.to(device)\n",
        "\n",
        "# Load the saved weights\n",
        "model_path = 'saved_weights.pt'\n",
        "model.load_state_dict(torch.load(model_path))\n",
        "model.to(device)\n",
        "\n",
        "import pandas as pd\n",
        "from torch.utils.data import DataLoader, Dataset\n",
        "\n",
        "class TestDataset(Dataset):\n",
        "    def __init__(self, texts, tokenizer, max_length):\n",
        "        self.texts = texts\n",
        "        self.tokenizer = tokenizer\n",
        "        self.max_length = max_length\n",
        "\n",
        "    def __len__(self):\n",
        "        return len(self.texts)\n",
        "\n",
        "    def __getitem__(self, idx):\n",
        "        text = self.texts[idx]\n",
        "        encoding = self.tokenizer(\n",
        "            text,\n",
        "            truncation=True,\n",
        "            padding='max_length',\n",
        "            max_length=self.max_length,\n",
        "            return_tensors='pt'\n",
        "        )\n",
        "        return {\n",
        "            'input_ids': encoding['input_ids'].squeeze(),\n",
        "            'attention_mask': encoding['attention_mask'].squeeze()\n",
        "        }\n",
        "\n",
        "def preprocessor(text):\n",
        "    # Preprocessing function implementation\n",
        "\n",
        "    # Expand contractions\n",
        "    text = contractions.fix(text)\n",
        "\n",
        "    # Remove URLs\n",
        "    text = re.sub(r'http\\S+', '', text)\n",
        "\n",
        "    # Replace numbers\n",
        "    text = re.sub(r'\\d+', '<num>', text)\n",
        "\n",
        "    # Replace emails and mentions\n",
        "    text = re.sub(r'\\S+@\\S+', '<email>', text)  # replace emails with <email>\n",
        "    text = re.sub(r'@\\w+', '<mention>', text)   # replace mentions with <mention>\n",
        "\n",
        "    # Remove punctuation and special characters\n",
        "    text = re.sub(r'[^a-zA-Z0-9\\s]', '', text)\n",
        "\n",
        "    # Removes emojis and certain symbols\n",
        "    text = re.sub(r'[^\\w\\s,]', '', text)\n",
        "\n",
        "    # Tokenize text\n",
        "    tokens = word_tokenize(text)\n",
        "\n",
        "    # Replace numbers with a placeholder\n",
        "    text = re.sub(r'\\d+', '<num>', text)\n",
        "\n",
        "    # Remove stopwords\n",
        "    tokens = [word for word in tokens if word not in stop_words]\n",
        "\n",
        "    # Lemmatize tokens\n",
        "    tokens = [lemmatizer.lemmatize(token) for token in tokens]\n",
        "\n",
        "    # Remove extra spaces\n",
        "    text = re.sub(r'\\s+', ' ', \" \".join(tokens)).strip()\n",
        "\n",
        "    return text\n",
        "    pass\n",
        "\n",
        "# Load and preprocess the test data\n",
        "test_df = pd.read_csv('test.csv')\n",
        "test_df['preprocessed_text'] = test_df['text'].apply(preprocessor)\n",
        "\n",
        "# Create DataLoader for the test set\n",
        "test_dataset = TestDataset(test_df['preprocessed_text'].tolist(), tokenizer, max_length=250)\n",
        "test_dataloader = DataLoader(test_dataset, batch_size=32, shuffle=False)\n",
        "\n",
        "import numpy as np\n",
        "\n",
        "def evaluate_test(model, dataloader, device):\n",
        "    print(\"\\nEvaluating.....\")\n",
        "    model.eval()\n",
        "    total_preds = []\n",
        "\n",
        "    for batch in dataloader:\n",
        "        batch = {key: value.to(device) for key, value in batch.items()}\n",
        "\n",
        "        with torch.no_grad():\n",
        "            outputs = model(batch['input_ids'], batch['attention_mask'])\n",
        "            logits = outputs\n",
        "            preds = logits.detach().cpu().numpy()\n",
        "            total_preds.append(preds)\n",
        "\n",
        "    total_preds = np.concatenate(total_preds, axis=0)\n",
        "    return total_preds\n",
        "\n",
        "# Get predictions\n",
        "predictions = evaluate_test(model, test_dataloader, device)\n",
        "\n",
        "# Add predictions to the dataframe\n",
        "test_df['sentiment'] = np.argmax(predictions, axis=1)\n",
        "\n",
        "# Rename and drop columns\n",
        "test_df.rename(columns={'unique_hash':'id'}, inplace=True)\n",
        "test_df = test_df[['id', 'sentiment']]\n",
        "\n",
        "# Save results to a new CSV file\n",
        "test_df.to_csv('test_predictions.csv', index=False)\n",
        "\n",
        "# Print the first few rows of the result\n",
        "print(test_df.head())\n"
      ],
      "metadata": {
        "colab": {
          "base_uri": "https://localhost:8080/"
        },
        "id": "mH6sNfA1g5Es",
        "outputId": "621586a3-889c-4a2e-ca1a-3c04afe0a4e2"
      },
      "execution_count": null,
      "outputs": [
        {
          "output_type": "stream",
          "name": "stderr",
          "text": [
            "/usr/local/lib/python3.10/dist-packages/transformers/tokenization_utils_base.py:1601: FutureWarning: `clean_up_tokenization_spaces` was not set. It will be set to `True` by default. This behavior will be depracted in transformers v4.45, and will be then set to `False` by default. For more details check this issue: https://github.com/huggingface/transformers/issues/31884\n",
            "  warnings.warn(\n",
            "<ipython-input-99-524fa3d97f9e>:37: FutureWarning: You are using `torch.load` with `weights_only=False` (the current default value), which uses the default pickle module implicitly. It is possible to construct malicious pickle data which will execute arbitrary code during unpickling (See https://github.com/pytorch/pytorch/blob/main/SECURITY.md#untrusted-models for more details). In a future release, the default value for `weights_only` will be flipped to `True`. This limits the functions that could be executed during unpickling. Arbitrary objects will no longer be allowed to be loaded via this mode unless they are explicitly allowlisted by the user via `torch.serialization.add_safe_globals`. We recommend you start setting `weights_only=True` for any use case where you don't have full control of the loaded file. Please open an issue on GitHub for any issues related to this experimental feature.\n",
            "  model.load_state_dict(torch.load(model_path))\n"
          ]
        },
        {
          "output_type": "stream",
          "name": "stdout",
          "text": [
            "\n",
            "Evaluating.....\n",
            "                                         id  sentiment\n",
            "0  9e9a8166b84114aca147bf409f6f956635034c08          2\n",
            "1  e747e6822c867571afe7b907b51f0f2ca67b0e1a          0\n",
            "2  50b6d851bcff4f35afe354937949e9948975adf7          2\n",
            "3  7f82ec2176ae6ab0b5d20b5ffc767ac829f384ae          2\n",
            "4  8b37d169dee5bdae27060949242fb54feb6a7f7f          2\n"
          ]
        }
      ]
    },
    {
      "cell_type": "code",
      "source": [],
      "metadata": {
        "id": "C5P93clXjR1C"
      },
      "execution_count": null,
      "outputs": []
    }
  ],
  "metadata": {
    "accelerator": "GPU",
    "colab": {
      "gpuType": "T4",
      "provenance": []
    },
    "kernelspec": {
      "display_name": "Python 3",
      "name": "python3"
    },
    "language_info": {
      "name": "python"
    },
    "widgets": {
      "application/vnd.jupyter.widget-state+json": {
        "71df7a084c6a4c438c02ccd0854c0f53": {
          "model_module": "@jupyter-widgets/controls",
          "model_name": "HBoxModel",
          "model_module_version": "1.5.0",
          "state": {
            "_dom_classes": [],
            "_model_module": "@jupyter-widgets/controls",
            "_model_module_version": "1.5.0",
            "_model_name": "HBoxModel",
            "_view_count": null,
            "_view_module": "@jupyter-widgets/controls",
            "_view_module_version": "1.5.0",
            "_view_name": "HBoxView",
            "box_style": "",
            "children": [
              "IPY_MODEL_3548548d8d494297bd1ba729d3e7769b",
              "IPY_MODEL_b401a3e63d1d40c29b3f89297dfa9b0e",
              "IPY_MODEL_315691cab3134145830f41eada8a0a78"
            ],
            "layout": "IPY_MODEL_dfae2fce887e407eafc97e1685dd541c"
          }
        },
        "3548548d8d494297bd1ba729d3e7769b": {
          "model_module": "@jupyter-widgets/controls",
          "model_name": "HTMLModel",
          "model_module_version": "1.5.0",
          "state": {
            "_dom_classes": [],
            "_model_module": "@jupyter-widgets/controls",
            "_model_module_version": "1.5.0",
            "_model_name": "HTMLModel",
            "_view_count": null,
            "_view_module": "@jupyter-widgets/controls",
            "_view_module_version": "1.5.0",
            "_view_name": "HTMLView",
            "description": "",
            "description_tooltip": null,
            "layout": "IPY_MODEL_c1bb6bd6c22c4df4bbfeedf8dbf27f3f",
            "placeholder": "​",
            "style": "IPY_MODEL_18a0874dfec14ea090dc1ac7f5380370",
            "value": "100%"
          }
        },
        "b401a3e63d1d40c29b3f89297dfa9b0e": {
          "model_module": "@jupyter-widgets/controls",
          "model_name": "FloatProgressModel",
          "model_module_version": "1.5.0",
          "state": {
            "_dom_classes": [],
            "_model_module": "@jupyter-widgets/controls",
            "_model_module_version": "1.5.0",
            "_model_name": "FloatProgressModel",
            "_view_count": null,
            "_view_module": "@jupyter-widgets/controls",
            "_view_module_version": "1.5.0",
            "_view_name": "ProgressView",
            "bar_style": "success",
            "description": "",
            "description_tooltip": null,
            "layout": "IPY_MODEL_99e9dee44f574e31b6942d44fd27d19b",
            "max": 5279,
            "min": 0,
            "orientation": "horizontal",
            "style": "IPY_MODEL_962f96b0369141bd93f33a2fd0eb4527",
            "value": 5279
          }
        },
        "315691cab3134145830f41eada8a0a78": {
          "model_module": "@jupyter-widgets/controls",
          "model_name": "HTMLModel",
          "model_module_version": "1.5.0",
          "state": {
            "_dom_classes": [],
            "_model_module": "@jupyter-widgets/controls",
            "_model_module_version": "1.5.0",
            "_model_name": "HTMLModel",
            "_view_count": null,
            "_view_module": "@jupyter-widgets/controls",
            "_view_module_version": "1.5.0",
            "_view_name": "HTMLView",
            "description": "",
            "description_tooltip": null,
            "layout": "IPY_MODEL_03da03df17b34177878828645ccffc91",
            "placeholder": "​",
            "style": "IPY_MODEL_9a2b0ff1afaf4bd097efaf9fece6d62b",
            "value": " 5279/5279 [00:15&lt;00:00, 427.82it/s]"
          }
        },
        "dfae2fce887e407eafc97e1685dd541c": {
          "model_module": "@jupyter-widgets/base",
          "model_name": "LayoutModel",
          "model_module_version": "1.2.0",
          "state": {
            "_model_module": "@jupyter-widgets/base",
            "_model_module_version": "1.2.0",
            "_model_name": "LayoutModel",
            "_view_count": null,
            "_view_module": "@jupyter-widgets/base",
            "_view_module_version": "1.2.0",
            "_view_name": "LayoutView",
            "align_content": null,
            "align_items": null,
            "align_self": null,
            "border": null,
            "bottom": null,
            "display": null,
            "flex": null,
            "flex_flow": null,
            "grid_area": null,
            "grid_auto_columns": null,
            "grid_auto_flow": null,
            "grid_auto_rows": null,
            "grid_column": null,
            "grid_gap": null,
            "grid_row": null,
            "grid_template_areas": null,
            "grid_template_columns": null,
            "grid_template_rows": null,
            "height": null,
            "justify_content": null,
            "justify_items": null,
            "left": null,
            "margin": null,
            "max_height": null,
            "max_width": null,
            "min_height": null,
            "min_width": null,
            "object_fit": null,
            "object_position": null,
            "order": null,
            "overflow": null,
            "overflow_x": null,
            "overflow_y": null,
            "padding": null,
            "right": null,
            "top": null,
            "visibility": null,
            "width": null
          }
        },
        "c1bb6bd6c22c4df4bbfeedf8dbf27f3f": {
          "model_module": "@jupyter-widgets/base",
          "model_name": "LayoutModel",
          "model_module_version": "1.2.0",
          "state": {
            "_model_module": "@jupyter-widgets/base",
            "_model_module_version": "1.2.0",
            "_model_name": "LayoutModel",
            "_view_count": null,
            "_view_module": "@jupyter-widgets/base",
            "_view_module_version": "1.2.0",
            "_view_name": "LayoutView",
            "align_content": null,
            "align_items": null,
            "align_self": null,
            "border": null,
            "bottom": null,
            "display": null,
            "flex": null,
            "flex_flow": null,
            "grid_area": null,
            "grid_auto_columns": null,
            "grid_auto_flow": null,
            "grid_auto_rows": null,
            "grid_column": null,
            "grid_gap": null,
            "grid_row": null,
            "grid_template_areas": null,
            "grid_template_columns": null,
            "grid_template_rows": null,
            "height": null,
            "justify_content": null,
            "justify_items": null,
            "left": null,
            "margin": null,
            "max_height": null,
            "max_width": null,
            "min_height": null,
            "min_width": null,
            "object_fit": null,
            "object_position": null,
            "order": null,
            "overflow": null,
            "overflow_x": null,
            "overflow_y": null,
            "padding": null,
            "right": null,
            "top": null,
            "visibility": null,
            "width": null
          }
        },
        "18a0874dfec14ea090dc1ac7f5380370": {
          "model_module": "@jupyter-widgets/controls",
          "model_name": "DescriptionStyleModel",
          "model_module_version": "1.5.0",
          "state": {
            "_model_module": "@jupyter-widgets/controls",
            "_model_module_version": "1.5.0",
            "_model_name": "DescriptionStyleModel",
            "_view_count": null,
            "_view_module": "@jupyter-widgets/base",
            "_view_module_version": "1.2.0",
            "_view_name": "StyleView",
            "description_width": ""
          }
        },
        "99e9dee44f574e31b6942d44fd27d19b": {
          "model_module": "@jupyter-widgets/base",
          "model_name": "LayoutModel",
          "model_module_version": "1.2.0",
          "state": {
            "_model_module": "@jupyter-widgets/base",
            "_model_module_version": "1.2.0",
            "_model_name": "LayoutModel",
            "_view_count": null,
            "_view_module": "@jupyter-widgets/base",
            "_view_module_version": "1.2.0",
            "_view_name": "LayoutView",
            "align_content": null,
            "align_items": null,
            "align_self": null,
            "border": null,
            "bottom": null,
            "display": null,
            "flex": null,
            "flex_flow": null,
            "grid_area": null,
            "grid_auto_columns": null,
            "grid_auto_flow": null,
            "grid_auto_rows": null,
            "grid_column": null,
            "grid_gap": null,
            "grid_row": null,
            "grid_template_areas": null,
            "grid_template_columns": null,
            "grid_template_rows": null,
            "height": null,
            "justify_content": null,
            "justify_items": null,
            "left": null,
            "margin": null,
            "max_height": null,
            "max_width": null,
            "min_height": null,
            "min_width": null,
            "object_fit": null,
            "object_position": null,
            "order": null,
            "overflow": null,
            "overflow_x": null,
            "overflow_y": null,
            "padding": null,
            "right": null,
            "top": null,
            "visibility": null,
            "width": null
          }
        },
        "962f96b0369141bd93f33a2fd0eb4527": {
          "model_module": "@jupyter-widgets/controls",
          "model_name": "ProgressStyleModel",
          "model_module_version": "1.5.0",
          "state": {
            "_model_module": "@jupyter-widgets/controls",
            "_model_module_version": "1.5.0",
            "_model_name": "ProgressStyleModel",
            "_view_count": null,
            "_view_module": "@jupyter-widgets/base",
            "_view_module_version": "1.2.0",
            "_view_name": "StyleView",
            "bar_color": null,
            "description_width": ""
          }
        },
        "03da03df17b34177878828645ccffc91": {
          "model_module": "@jupyter-widgets/base",
          "model_name": "LayoutModel",
          "model_module_version": "1.2.0",
          "state": {
            "_model_module": "@jupyter-widgets/base",
            "_model_module_version": "1.2.0",
            "_model_name": "LayoutModel",
            "_view_count": null,
            "_view_module": "@jupyter-widgets/base",
            "_view_module_version": "1.2.0",
            "_view_name": "LayoutView",
            "align_content": null,
            "align_items": null,
            "align_self": null,
            "border": null,
            "bottom": null,
            "display": null,
            "flex": null,
            "flex_flow": null,
            "grid_area": null,
            "grid_auto_columns": null,
            "grid_auto_flow": null,
            "grid_auto_rows": null,
            "grid_column": null,
            "grid_gap": null,
            "grid_row": null,
            "grid_template_areas": null,
            "grid_template_columns": null,
            "grid_template_rows": null,
            "height": null,
            "justify_content": null,
            "justify_items": null,
            "left": null,
            "margin": null,
            "max_height": null,
            "max_width": null,
            "min_height": null,
            "min_width": null,
            "object_fit": null,
            "object_position": null,
            "order": null,
            "overflow": null,
            "overflow_x": null,
            "overflow_y": null,
            "padding": null,
            "right": null,
            "top": null,
            "visibility": null,
            "width": null
          }
        },
        "9a2b0ff1afaf4bd097efaf9fece6d62b": {
          "model_module": "@jupyter-widgets/controls",
          "model_name": "DescriptionStyleModel",
          "model_module_version": "1.5.0",
          "state": {
            "_model_module": "@jupyter-widgets/controls",
            "_model_module_version": "1.5.0",
            "_model_name": "DescriptionStyleModel",
            "_view_count": null,
            "_view_module": "@jupyter-widgets/base",
            "_view_module_version": "1.2.0",
            "_view_name": "StyleView",
            "description_width": ""
          }
        }
      }
    }
  },
  "nbformat": 4,
  "nbformat_minor": 0
}